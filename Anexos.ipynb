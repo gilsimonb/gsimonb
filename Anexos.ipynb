{
 "cells": [
  {
   "cell_type": "markdown",
   "metadata": {},
   "source": [
    "# Anexos"
   ]
  },
  {
   "cell_type": "markdown",
   "metadata": {},
   "source": [
    "## Bitácora de instalación\n",
    "- Anaconda 2019.10 for Windows Installer with Python 3.7 version, 64 bit graphical installer, [https://www.anaconda.com/distribution/#download-section](https://www.anaconda.com/distribution/#download-section)\n",
    "<img src=\"images/anaconda-setup.png\" alt=\"Anaconda Setup\" title=\"Anaconda Setup\"/>\n",
    "\n",
    "    - Actualizar Anaconda por medio del siguiente comando en un prompt de Anaconda\n",
    "    \n",
    "    `conda update -n base -c defaults conda`\n",
    "- NLTK\n",
    "    - NLTK Data\n",
    "- TensorFlow\n",
    "- Crear cuenta en [GitHub](https://github.com/)\n",
    "- GitHub Desktop\n",
    "- [NVIDIA CUDA Toolkit 10.2](https://developer.nvidia.com/cuda-downloads?target_os=Windows&target_arch=x86_64&target_version=10&target_type=exenetwork)\n",
    "- [Atom](https://atom.io/) es un editor de código para el siglo 21. Está documentado en [Atom Flight Manual](https://flight-manual.atom.io/)\n",
    "- [Instalar Docker en Windows](https://docs.docker.com/docker-for-windows/install/)\n",
    "Tomar nota de los prerequisitos: \n",
    "    - Verificar que el procesador de 64 bits soporte [Second Level Address Translation](https://en.wikipedia.org/wiki/Second_Level_Address_Translation)\n",
    "    - Las características de Windows de Hyper-V y Containers deben estar habilitadas.\n"
   ]
  },
  {
   "cell_type": "markdown",
   "metadata": {},
   "source": [
    "## Ambiente Anaconda tf\n",
    "### Crear el ambiente tf\n",
    "Crear el ambiente desde un prompt de Anaconda:\n",
    "`conda create -n tf tensorflow`\n",
    "(tomar nota de la ubicación en el sistema de archivos del ambiente)\n",
    "\n",
    "La ubicación del ambiente se reporta en la sección ## Package Plan ## generada por la salida de conda create, p.e.\n",
    "\n",
    "` ## Package Plan ##`\n",
    "\n",
    "`environment location: C:\\Users\\Marciano\\.conda\\envs\\tf`\n",
    "\n",
    "Activar el ambiente\n",
    "`conda activate tf`\n",
    "\n",
    "Desactivar el ambiente\n",
    "`conda deactivate`\n",
    "\n",
    "Ejecutar el intérprete de Python y verificar la versión\n",
    "`python`\n",
    "<img src=\"images/Python%20version.png\" alt=\"Python version\" title=\"Python version\"/>\n",
    "\n",
    "### Instalar paquetes de Python via conda install\n",
    "Instalar los siguientes paquetes de Python por medio de un prompt de Anaconda y el comando conda install:\n",
    "\n",
    "`conda install --name tf {package name}`\n",
    "- matplotlib\n",
    "- pandas\n",
    "- seaborn\n",
    "- tensorflow-hub\n",
    "- imageio\n",
    "- tensorflow-gpu\n",
    "\n",
    "### Instalar paquetes de Python via conda-forge\n",
    "cv2 \n",
    "\n",
    "`conda install -c conda-forge opencv`\n",
    "\n",
    "mnist según lo descrito en  [Mnist::Anaconda Cloud](https://anaconda.org/conda-forge/mnist)\n",
    "\n",
    "`conda install -c conda-forge mnist`\n",
    "\n",
    "`conda install -c conda-forge/label/cf201901 mnist`\n",
    "\n",
    "keras según lo descrito en [Keras::Anaconda Cloud](https://anaconda.org/conda-forge/keras)\n",
    "\n",
    "`conda install -c conda-forge keras`\n",
    "\n",
    "tensorflow_docs via pip\n",
    "\n",
    "`pip install -q git+https://github.com/tensorflow/docs`\n",
    "\n",
    "### Instalar Spyder\n",
    "Instalar Spyder desde Anaconda Navigator\n",
    "<img src=\"images/Spyder%20en%20tf.png\" alt=\"Spyder en tf\" title=\"Spyder en tf\"/>"
   ]
  },
  {
   "cell_type": "markdown",
   "metadata": {},
   "source": [
    "# Ambiente Anaconda py2\n",
    "Ambiente para ejecutar notebooks que requieran Python 2.7\n",
    "\n",
    "Cabe mencionar que TensorFlow en Windows requiere de Python 3.x ver https://stackoverflow.com/questions/45316569/how-to-install-tensorflow-on-python-2-7-on-windows\n",
    "\n",
    "## Crear ambiente\n",
    "Creado para ejecutar algunos notebooks con tutoriales que requieren de Python 2.x\n",
    "\n",
    "`conda create --name py2 python=2.7`\n",
    "\n",
    "La salida de conda create indica la ubicación del ambiente:\n",
    "\n",
    "`environment location: C:\\Users\\Marciano\\.conda\\envs\\py2`\n",
    "  \n",
    "Activar con: `conda activate py2`\n",
    "\n",
    "Desactivar con: `conda deactivate`\n",
    "\n",
    "# Instalar Jupyter en py2\n",
    "Activar el ambiente py2\n",
    "\n",
    "Ejecutar `conda install jupyter`\n",
    "# Ejecutar Jupyter\n",
    "`jupyter notebook`\n",
    "# Instalar paquetes de Python\n",
    "Verificar que la consola de Conda se encuentre activa en el ambiente py2.\n",
    "\n",
    "`conda install --name tf {package name}`\n",
    "- numpy\n",
    "- matplotlib\n",
    "- tensorflow"
   ]
  },
  {
   "cell_type": "markdown",
   "metadata": {},
   "source": [
    "# Ambiente tf21\n",
    "TFX requiere de TensorFlow 2.1\n",
    "\n",
    "`conda create -n tf21 tensorflow==2.1`\n",
    "\n",
    "Añadir paquete de tfx via pip\n",
    "\n",
    "`pip install tfx`\n",
    "\n",
    "Instalar Jupyter en el ambiente tf21 desde Anaconda Navigator\n",
    "![Jupyter en TF21](images/jupyter-tf21.png)\n",
    "\n"
   ]
  },
  {
   "cell_type": "markdown",
   "metadata": {},
   "source": [
    "# Contenedor de Docker para TensorFlow Serving\n",
    "- Instalar Docker.\n",
    "- Obtener una imagen de TensorFlow serving `docker pull tensorflow-serving`."
   ]
  },
  {
   "cell_type": "markdown",
   "metadata": {},
   "source": [
    "# TensorFlow.js y ml5.js\n",
    "La librería ml5.js provee de acceso a algorimtos de machine learning y modelos en un browser por medio de un API simple y concisa.\n",
    "\n",
    "Crear aplicación Web con librerías de ml5.js. El  módulo `http.server` de Python es una opción para ejecutar la aplicación Web en modo local por medio del comando: `python -m http.server`"
   ]
  },
  {
   "cell_type": "markdown",
   "metadata": {},
   "source": [
    "# Base de conocimiento\n",
    "## Anaconda\n",
    "[Guía de inicio](https://conda.io/projects/conda/en/latest/user-guide/getting-started.html)\n",
    "\n",
    "[Conda Cheat Sheet](https://docs.conda.io/projects/conda/en/4.6.0/_downloads/52a95608c49671267e40c689e0bc00ca/conda-cheatsheet.pdf)\n",
    "\n",
    "[Entendiendo Conda y pip](https://www.anaconda.com/understanding-conda-and-pip/)\n",
    "\n",
    "[Using Pip to install packages to Anaconda Environment](https://stackoverflow.com/questions/41060382/using-pip-to-install-packages-to-anaconda-environment)\n",
    "## Jupyter\n",
    "Aplicación web para capturar todo el proceso de cómputo: desarrollo, documentación y ejecución de código. Extiende el concepto de la consola a cómputo interactivo.\n",
    "\n",
    "[Jupyter Notebook](https://jupyter-notebook.readthedocs.io/en/stable/)\n",
    "\n",
    "[Cambiar el directorio raiz de la instancia de Jupyter](https://jupyter-notebook-beginner-guide.readthedocs.io/en/latest/execute.html)\n",
    "\n",
    "[Markdown for Jupyter cheat sheet](https://medium.com/ibm-data-science-experience/markdown-for-jupyter-notebooks-cheatsheet-386c05aeebed)\n",
    "## Python\n",
    "[Documentación Python 2.7(.17)](https://docs.python.org/2.7/)\n",
    "\n",
    "[Documentación Python 3.7(.6)](https://docs.python.org/3.7/)\n",
    "## NumPy\n",
    "Paquete fundamental para cómputo científico en Python, contiene arreglo de múltiples dimensiones, funciones de broadcasting, capacidades de álgebra lineal, manejo de números aleatorios y más.\n",
    "\n",
    "[NumPy.org](https://numpy.org/)\n",
    "## Pandas\n",
    "Pandas es una librería de código abierto con licencia BSD que provee estructuras de datos de alto desempeño y herramientas de análisis para el lenguaje de programación Python.\n",
    "[Pandas - documentación](https://pandas.pydata.org/docs/#)\n",
    "\n",
    "## Redes Neuronales\n",
    "https://stats.stackexchange.com/questions/93705/meaning-of-a-neural-network-as-a-black-box\n"
   ]
  }
 ],
 "metadata": {
  "kernelspec": {
   "display_name": "Python 3",
   "language": "python",
   "name": "python3"
  },
  "language_info": {
   "codemirror_mode": {
    "name": "ipython",
    "version": 3
   },
   "file_extension": ".py",
   "mimetype": "text/x-python",
   "name": "python",
   "nbconvert_exporter": "python",
   "pygments_lexer": "ipython3",
   "version": "3.7.6"
  }
 },
 "nbformat": 4,
 "nbformat_minor": 4
}
