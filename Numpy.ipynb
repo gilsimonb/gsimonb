{
 "cells": [
  {
   "cell_type": "markdown",
   "metadata": {},
   "source": [
    "# NuPy (Numerical Python)\n",
    "## Introducción\n",
    "### ¿Qué es?\n",
    "NumPy es el paquete fundamental para cómputo científico en Python. Es una librería que provee de un objeto tipo arreglo multidimensional y varios objetos derivados tales como arreglos enmascarados y matrices, así como rutinas para operaciones ágiles con arreglos, incluyendo matemáticas, lógicas, manipulación de formas, ordenamiento, selección, I/O, transformadas discretas de Fourier, álgebra lineal básica, operaciones estadísticas básicas, simulación de valores aleatorios y más.\n",
    "\n",
    "### Beneficios\n",
    "* La estructura de datos ndarray es más eficiente para almacenar y manejar datos numéricos, en comparación con las estructuras de la distribución estándar de Python.\n",
    "* Las librerías escritas en lenguajes de bajo nivel -tales como C- pueden operar con datos almacenados en el ndarray de Numpy sin tener que copiar datos.\n",
    "\n",
    "## Estructura de datos (ndarray)\n",
    "### Concepto\n",
    "Arreglo multidimensional rápido y eficiente respecto al almacenamiento, el cual puede funcionar para almacenar datos homogéneos. Provee de operaciones aritméticas con soporte a vectorización.\n",
    "\n",
    "### Crear ndarray"
   ]
  },
  {
   "cell_type": "code",
   "execution_count": 3,
   "metadata": {},
   "outputs": [
    {
     "output_type": "execute_result",
     "data": {
      "text/plain": [
       "array([0, 1, 2, 3, 4, 5, 6, 7, 8, 9])"
      ]
     },
     "metadata": {},
     "execution_count": 3
    }
   ],
   "source": [
    "import numpy as np\n",
    "#Crear un ndarray\n",
    "r = range(10)\n",
    "np.array(r)\n"
   ]
  },
  {
   "source": [
    "### Crer NdArray personalizados"
   ],
   "cell_type": "markdown",
   "metadata": {}
  },
  {
   "cell_type": "code",
   "execution_count": 4,
   "metadata": {},
   "outputs": [
    {
     "output_type": "execute_result",
     "data": {
      "text/plain": [
       "array([0., 0., 0., 0., 0., 0., 0., 0., 0., 0.])"
      ]
     },
     "metadata": {},
     "execution_count": 4
    }
   ],
   "source": [
    "#Arreglo de una dimensión con 10 elementos con valor 0.\n",
    "np.zeros(10)"
   ]
  },
  {
   "cell_type": "code",
   "execution_count": 6,
   "metadata": {},
   "outputs": [
    {
     "output_type": "execute_result",
     "data": {
      "text/plain": [
       "array([[1., 1., 1.],\n",
       "       [1., 1., 1.]])"
      ]
     },
     "metadata": {},
     "execution_count": 6
    }
   ],
   "source": [
    "# Arreglo de dos dimensiones con 6 elementos con valor 1.\n",
    "np.ones((2,3))"
   ]
  },
  {
   "cell_type": "code",
   "execution_count": 25,
   "metadata": {},
   "outputs": [
    {
     "output_type": "execute_result",
     "data": {
      "text/plain": [
       "array([[ 1.20390287, -0.64943215, -0.11515287],\n",
       "       [ 0.90299308,  1.53758089,  0.26891018]])"
      ]
     },
     "metadata": {},
     "execution_count": 25
    }
   ],
   "source": [
    "# Arreglo de dos dimensiones con valores aleatorios\n",
    "randarray = np.random.randn(2,3)\n",
    "randarray"
   ]
  },
  {
   "cell_type": "code",
   "execution_count": 8,
   "metadata": {},
   "outputs": [
    {
     "output_type": "execute_result",
     "data": {
      "text/plain": [
       "array([[[ 3.68402372e-043,  6.38796479e+029,  1.82861333e-094,\n",
       "          8.78421503e+247,  2.34896698e+251],\n",
       "        [ 9.52023510e+150,  2.51318105e+088,  1.81786175e+185,\n",
       "          2.42766859e-154,  1.35237560e+045],\n",
       "        [ 2.97034456e+222,  2.34785930e+251,  4.93949479e+111,\n",
       "          1.13557120e-153,  1.27734658e-152],\n",
       "        [ 3.89740696e+160,  1.28013918e-152,  4.19334307e+228,\n",
       "          2.44088558e-154,  1.57999620e-313]],\n",
       "\n",
       "       [[ 2.54679929e+059,  1.24019659e+151,  2.74590881e+030,\n",
       "          9.38142371e-082,  5.36530393e-080],\n",
       "        [ 3.98386110e+252,  4.08828928e+233,  2.11263694e+035,\n",
       "          9.08625603e+044,  2.07591286e+243],\n",
       "        [ 6.86592573e+246,  2.91300382e+256,  4.76688569e+180,\n",
       "          1.75393304e-321,  3.80261646e-311],\n",
       "        [ 4.57509083e-308,  2.54266473e-191,  4.89467838e-296,\n",
       "          2.13450446e-287,  2.79273096e-287]],\n",
       "\n",
       "       [[ 3.32653142e-111,  6.59046452e-244,  3.70188797e-313,\n",
       "          3.16056534e+233, -3.84192429e+125],\n",
       "        [ 9.88282248e-196,  4.97508544e-313,  1.82800298e-019,\n",
       "          3.65588343e+233,  3.40605788e-309],\n",
       "        [ 9.15228508e+199,  2.85678800e+151,  9.48707529e+170,\n",
       "          6.75392408e+199,  1.14876283e+170],\n",
       "        [ 4.94065646e-324,  1.27319747e-313,  1.54544953e-310,\n",
       "          3.25134978e+294,  2.26883355e+289]]])"
      ]
     },
     "metadata": {},
     "execution_count": 8
    }
   ],
   "source": [
    "Arreglo de tres dimensiones con valores no inicializados\n",
    "np.empty((3,4,5))\n",
    "#La función empty no garantiza regresar valores cero"
   ]
  },
  {
   "cell_type": "code",
   "execution_count": 12,
   "metadata": {},
   "outputs": [
    {
     "output_type": "execute_result",
     "data": {
      "text/plain": [
       "array([0, 1, 2, 3, 4])"
      ]
     },
     "metadata": {},
     "execution_count": 12
    }
   ],
   "source": [
    "# Versión de ndarray de la función range de Python\n",
    "np.arange(5)"
   ]
  },
  {
   "cell_type": "code",
   "execution_count": 13,
   "metadata": {},
   "outputs": [
    {
     "output_type": "execute_result",
     "data": {
      "text/plain": [
       "(3, 4, 5)"
      ]
     },
     "metadata": {},
     "execution_count": 13
    }
   ],
   "source": [
    "# Obtener el número de dimensiones\n",
    "somearray = np.empty((3,4,5))\n",
    "somearray.shape"
   ]
  },
  {
   "cell_type": "code",
   "execution_count": 14,
   "metadata": {},
   "outputs": [
    {
     "output_type": "execute_result",
     "data": {
      "text/plain": [
       "dtype('float64')"
      ]
     },
     "metadata": {},
     "execution_count": 14
    }
   ],
   "source": [
    "# Obtener el tipo de datos\n",
    "somearray.dtype"
   ]
  },
  {
   "cell_type": "code",
   "execution_count": 17,
   "metadata": {},
   "outputs": [
    {
     "output_type": "execute_result",
     "data": {
      "text/plain": [
       "array([[[          0, -2147483648,           0, -2147483648,\n",
       "         -2147483648],\n",
       "        [-2147483648, -2147483648, -2147483648,           0,\n",
       "         -2147483648],\n",
       "        [-2147483648, -2147483648, -2147483648,           0,\n",
       "                   0],\n",
       "        [-2147483648,           0, -2147483648,           0,\n",
       "                   0]],\n",
       "\n",
       "       [[-2147483648, -2147483648, -2147483648,           0,\n",
       "                   0],\n",
       "        [-2147483648, -2147483648, -2147483648, -2147483648,\n",
       "         -2147483648],\n",
       "        [-2147483648, -2147483648, -2147483648,           0,\n",
       "                   0],\n",
       "        [          0,           0,           0,           0,\n",
       "                   0]],\n",
       "\n",
       "       [[          0,           0,           0, -2147483648,\n",
       "         -2147483648],\n",
       "        [          0,           0,           0, -2147483648,\n",
       "                   0],\n",
       "        [-2147483648, -2147483648, -2147483648, -2147483648,\n",
       "         -2147483648],\n",
       "        [          0,           0,           0, -2147483648,\n",
       "         -2147483648]]])"
      ]
     },
     "metadata": {},
     "execution_count": 17
    }
   ],
   "source": [
    "# Casting explícito\n",
    "somearray2 = somearray.astype(np.int32)\n",
    "somearray2.dtype\n",
    "somearray2"
   ]
  },
  {
   "source": [
    "## Slicing (índices y subconjuntos)\n",
    "\n",
    "* Slicing provee de una vista de los datos originales. No se copian los datos. Cualquier modificación a la vista se verá reflejada en los datos originales.\n",
    "* Es posible llevar a cabo una copia de los datos por medio de la función copy."
   ],
   "cell_type": "markdown",
   "metadata": {}
  },
  {
   "cell_type": "code",
   "execution_count": 19,
   "metadata": {},
   "outputs": [
    {
     "output_type": "execute_result",
     "data": {
      "text/plain": [
       "<function ndarray.copy>"
      ]
     },
     "metadata": {},
     "execution_count": 19
    }
   ],
   "source": [
    "#Copia explícita\n",
    "somearray[2:6].copy"
   ]
  },
  {
   "cell_type": "code",
   "execution_count": 20,
   "metadata": {},
   "outputs": [
    {
     "output_type": "execute_result",
     "data": {
      "text/plain": [
       "3.684023722016545e-43"
      ]
     },
     "metadata": {},
     "execution_count": 20
    }
   ],
   "source": [
    "#El indexado de arreglos multidimensionales puede tener dos formas\n",
    "somearray[0][0][0]"
   ]
  },
  {
   "cell_type": "code",
   "execution_count": 21,
   "metadata": {},
   "outputs": [
    {
     "output_type": "execute_result",
     "data": {
      "text/plain": [
       "3.684023722016545e-43"
      ]
     },
     "metadata": {},
     "execution_count": 21
    }
   ],
   "source": [
    "somearray[0,0,0]"
   ]
  },
  {
   "source": [
    "## Transposición\n",
    "Una forma especial de cambio de forma que regresa una vsita de los datos, no copia."
   ],
   "cell_type": "markdown",
   "metadata": {}
  },
  {
   "cell_type": "code",
   "execution_count": 30,
   "metadata": {},
   "outputs": [
    {
     "output_type": "execute_result",
     "data": {
      "text/plain": [
       "array([[-0.87746186, -0.09040581,  0.46295046, -1.11725789],\n",
       "       [ 0.04334713, -2.01723401,  0.58479402, -1.06598404],\n",
       "       [ 1.07309608,  0.84913546,  0.33648294, -1.77776792]])"
      ]
     },
     "metadata": {},
     "execution_count": 30
    }
   ],
   "source": [
    "transposeme = np.random.randn(3,4)\n",
    "transposeme"
   ]
  },
  {
   "cell_type": "code",
   "execution_count": 31,
   "metadata": {},
   "outputs": [
    {
     "output_type": "execute_result",
     "data": {
      "text/plain": [
       "array([[-0.87746186,  0.04334713,  1.07309608],\n",
       "       [-0.09040581, -2.01723401,  0.84913546],\n",
       "       [ 0.46295046,  0.58479402,  0.33648294],\n",
       "       [-1.11725789, -1.06598404, -1.77776792]])"
      ]
     },
     "metadata": {},
     "execution_count": 31
    }
   ],
   "source": [
    "transposeme.T"
   ]
  },
  {
   "cell_type": "code",
   "execution_count": 32,
   "metadata": {},
   "outputs": [
    {
     "output_type": "execute_result",
     "data": {
      "text/plain": [
       "array([[-0.87746186,  0.04334713,  1.07309608],\n",
       "       [-0.09040581, -2.01723401,  0.84913546],\n",
       "       [ 0.46295046,  0.58479402,  0.33648294],\n",
       "       [-1.11725789, -1.06598404, -1.77776792]])"
      ]
     },
     "metadata": {},
     "execution_count": 32
    }
   ],
   "source": [
    "transposeme.transpose()"
   ]
  },
  {
   "cell_type": "code",
   "execution_count": 33,
   "metadata": {},
   "outputs": [
    {
     "output_type": "execute_result",
     "data": {
      "text/plain": [
       "array([[-0.87746186,  0.04334713,  1.07309608],\n",
       "       [-0.09040581, -2.01723401,  0.84913546],\n",
       "       [ 0.46295046,  0.58479402,  0.33648294],\n",
       "       [-1.11725789, -1.06598404, -1.77776792]])"
      ]
     },
     "metadata": {},
     "execution_count": 33
    }
   ],
   "source": [
    "transposeme.swapaxes(0,1)"
   ]
  },
  {
   "source": [
    "## Envolventes (wrappers) para funciones de Python que procesan datos escalares"
   ],
   "cell_type": "markdown",
   "metadata": {}
  },
  {
   "cell_type": "code",
   "execution_count": 44,
   "metadata": {},
   "outputs": [
    {
     "output_type": "execute_result",
     "data": {
      "text/plain": [
       "array([[0.80947634, 0.73471094, 0.0556154 ],\n",
       "       [0.99878509, 0.17770948, 0.52772364],\n",
       "       [0.51583496, 0.00792215, 0.4038782 ],\n",
       "       [0.08159909, 0.86890365, 0.33085085]])"
      ]
     },
     "metadata": {},
     "execution_count": 44
    }
   ],
   "source": [
    "wrapme = np.random.rand(4,3)\n",
    "wrapme"
   ]
  },
  {
   "cell_type": "code",
   "execution_count": 39,
   "metadata": {},
   "outputs": [
    {
     "output_type": "execute_result",
     "data": {
      "text/plain": [
       "3.1606961258558215"
      ]
     },
     "metadata": {},
     "execution_count": 39
    }
   ],
   "source": [
    "import math\n",
    "math.sqrt(9.99)"
   ]
  },
  {
   "cell_type": "code",
   "execution_count": 40,
   "metadata": {},
   "outputs": [
    {
     "output_type": "error",
     "ename": "TypeError",
     "evalue": "only size-1 arrays can be converted to Python scalars",
     "traceback": [
      "\u001b[1;31m---------------------------------------------------------------------------\u001b[0m",
      "\u001b[1;31mTypeError\u001b[0m                                 Traceback (most recent call last)",
      "\u001b[1;32m<ipython-input-40-3491117ffb59>\u001b[0m in \u001b[0;36m<module>\u001b[1;34m\u001b[0m\n\u001b[1;32m----> 1\u001b[1;33m \u001b[0mmath\u001b[0m\u001b[1;33m.\u001b[0m\u001b[0msqrt\u001b[0m\u001b[1;33m(\u001b[0m\u001b[0mwrapme\u001b[0m\u001b[1;33m)\u001b[0m\u001b[1;33m\u001b[0m\u001b[1;33m\u001b[0m\u001b[0m\n\u001b[0m",
      "\u001b[1;31mTypeError\u001b[0m: only size-1 arrays can be converted to Python scalars"
     ]
    }
   ],
   "source": [
    "math.sqrt(wrapme) # Produce error de tiempo de ejecución"
   ]
  },
  {
   "cell_type": "code",
   "execution_count": 45,
   "metadata": {},
   "outputs": [
    {
     "output_type": "execute_result",
     "data": {
      "text/plain": [
       "array([[0.89970903, 0.85715281, 0.23582917],\n",
       "       [0.99939236, 0.42155602, 0.72644589],\n",
       "       [0.71821652, 0.08900647, 0.63551412],\n",
       "       [0.28565555, 0.93215001, 0.57519636]])"
      ]
     },
     "metadata": {},
     "execution_count": 45
    }
   ],
   "source": [
    "np.sqrt(wrapme)"
   ]
  },
  {
   "source": [
    "## Broadcasting\n",
    "Es posible crear expresiones en Python donde se combinen variables de múltiples dimensiones con operadores y variables escalares"
   ],
   "cell_type": "markdown",
   "metadata": {}
  },
  {
   "source": [
    "### Operaciones aritméticas con un arreglo numpy y valores escalares"
   ],
   "cell_type": "markdown",
   "metadata": {}
  },
  {
   "cell_type": "code",
   "execution_count": 60,
   "metadata": {},
   "outputs": [
    {
     "output_type": "execute_result",
     "data": {
      "text/plain": [
       "array([[100],\n",
       "       [101],\n",
       "       [102],\n",
       "       [103]])"
      ]
     },
     "metadata": {},
     "execution_count": 60
    }
   ],
   "source": [
    "\n",
    "bcast1 = np.array(range(4))\n",
    "bcast1 = bcast1.reshape(-1,1)\n",
    "bcast1 + 100\n"
   ]
  },
  {
   "cell_type": "code",
   "execution_count": 65,
   "metadata": {},
   "outputs": [
    {
     "output_type": "execute_result",
     "data": {
      "text/plain": [
       "array([[-1],\n",
       "       [ 0],\n",
       "       [ 1],\n",
       "       [ 2]])"
      ]
     },
     "metadata": {},
     "execution_count": 65
    }
   ],
   "source": [
    "bcast1 - 1"
   ]
  },
  {
   "cell_type": "code",
   "execution_count": 66,
   "metadata": {},
   "outputs": [
    {
     "output_type": "execute_result",
     "data": {
      "text/plain": [
       "array([[ 0],\n",
       "       [10],\n",
       "       [20],\n",
       "       [30]])"
      ]
     },
     "metadata": {},
     "execution_count": 66
    }
   ],
   "source": [
    "bcast1 * 10"
   ]
  },
  {
   "cell_type": "code",
   "execution_count": 67,
   "metadata": {},
   "outputs": [
    {
     "output_type": "execute_result",
     "data": {
      "text/plain": [
       "array([[0. ],\n",
       "       [0.5],\n",
       "       [1. ],\n",
       "       [1.5]])"
      ]
     },
     "metadata": {},
     "execution_count": 67
    }
   ],
   "source": [
    "bcast1 / 2"
   ]
  },
  {
   "cell_type": "code",
   "execution_count": 68,
   "metadata": {},
   "outputs": [
    {
     "output_type": "execute_result",
     "data": {
      "text/plain": [
       "array([[0],\n",
       "       [1],\n",
       "       [2],\n",
       "       [3]])"
      ]
     },
     "metadata": {},
     "execution_count": 68
    }
   ],
   "source": [
    "bcast1"
   ]
  },
  {
   "source": [
    "### Operaciones con matrices de distintas dimensiones en las que se aplica broadcasting para alinear las dimensiones de las matrices y admitir la operación"
   ],
   "cell_type": "markdown",
   "metadata": {}
  },
  {
   "cell_type": "code",
   "execution_count": 72,
   "metadata": {},
   "outputs": [
    {
     "output_type": "execute_result",
     "data": {
      "text/plain": [
       "array([[0, 1, 2],\n",
       "       [3, 4, 5]])"
      ]
     },
     "metadata": {},
     "execution_count": 72
    }
   ],
   "source": [
    "bcast2 = np.array(range(6)).reshape(2,3)\n",
    "bcast2"
   ]
  },
  {
   "cell_type": "code",
   "execution_count": 85,
   "metadata": {},
   "outputs": [
    {
     "output_type": "execute_result",
     "data": {
      "text/plain": [
       "array([[100, 101, 102],\n",
       "       [103, 104, 105]])"
      ]
     },
     "metadata": {},
     "execution_count": 85
    }
   ],
   "source": [
    "bcast100 = np.array([100,100,100]).reshape(1,3)\n",
    "bcast2 + bcast100"
   ]
  },
  {
   "cell_type": "code",
   "execution_count": 86,
   "metadata": {},
   "outputs": [
    {
     "output_type": "execute_result",
     "data": {
      "text/plain": [
       "array([[0, 1, 2],\n",
       "       [3, 4, 5],\n",
       "       [6, 7, 8]])"
      ]
     },
     "metadata": {},
     "execution_count": 86
    }
   ],
   "source": [
    "bcast3 = np.array(range(9)).reshape(3,-1)\n",
    "bcast3"
   ]
  },
  {
   "cell_type": "code",
   "execution_count": 87,
   "metadata": {},
   "outputs": [
    {
     "output_type": "execute_result",
     "data": {
      "text/plain": [
       "array([[100],\n",
       "       [100],\n",
       "       [100]])"
      ]
     },
     "metadata": {},
     "execution_count": 87
    }
   ],
   "source": [
    "bcast4 = bcast100.reshape(3,-1)\n",
    "bcast4"
   ]
  },
  {
   "cell_type": "code",
   "execution_count": 88,
   "metadata": {},
   "outputs": [
    {
     "output_type": "execute_result",
     "data": {
      "text/plain": [
       "array([[100, 101, 102],\n",
       "       [103, 104, 105],\n",
       "       [106, 107, 108]])"
      ]
     },
     "metadata": {},
     "execution_count": 88
    }
   ],
   "source": [
    "bcast3 + bcast4"
   ]
  },
  {
   "source": [
    "### Producto dot\n",
    "np.dot es el producto dot de dos matrices\n",
    "https://en.wikipedia.org/wiki/Dot_product\n",
    "\n",
    "|A B| (dot) |E F| = | A\\*E+B\\*G A\\*F+B\\*H |\n",
    "\n",
    "|C D|  .....  |G H| = | C\\*E+D\\*G C\\*F+D\\*H |"
   ],
   "cell_type": "markdown",
   "metadata": {}
  },
  {
   "cell_type": "code",
   "execution_count": 95,
   "metadata": {},
   "outputs": [
    {
     "output_type": "execute_result",
     "data": {
      "text/plain": [
       "array([[0, 1],\n",
       "       [2, 3]])"
      ]
     },
     "metadata": {},
     "execution_count": 95
    }
   ],
   "source": [
    "mat1 = np.array(range(4)).reshape(2,-1)\n",
    "mat1"
   ]
  },
  {
   "cell_type": "code",
   "execution_count": 96,
   "metadata": {},
   "outputs": [
    {
     "output_type": "execute_result",
     "data": {
      "text/plain": [
       "array([[10, 20],\n",
       "       [30, 40]])"
      ]
     },
     "metadata": {},
     "execution_count": 96
    }
   ],
   "source": [
    "mat2 = np.array([10,20,30,40]).reshape(2,-1)\n",
    "mat2"
   ]
  },
  {
   "cell_type": "code",
   "execution_count": 97,
   "metadata": {},
   "outputs": [
    {
     "output_type": "execute_result",
     "data": {
      "text/plain": [
       "array([[ 30,  40],\n",
       "       [110, 160]])"
      ]
     },
     "metadata": {},
     "execution_count": 97
    }
   ],
   "source": [
    "np.dot(mat1,mat2)"
   ]
  },
  {
   "cell_type": "code",
   "execution_count": 98,
   "metadata": {},
   "outputs": [
    {
     "output_type": "execute_result",
     "data": {
      "text/plain": [
       "array([[  0,  20],\n",
       "       [ 60, 120]])"
      ]
     },
     "metadata": {},
     "execution_count": 98
    }
   ],
   "source": [
    "#Multiplicación elemento-a-elemento de matrices\n",
    "mat1*mat2"
   ]
  }
 ],
 "metadata": {
  "kernelspec": {
   "name": "python374jvsc74a57bd0b3ba2566441a7c06988d0923437866b63cedc61552a5af99d1f4fb67d367b25f",
   "display_name": "Python 3.7.4 64-bit (conda)"
  },
  "language_info": {
   "codemirror_mode": {
    "name": "ipython",
    "version": 3
   },
   "file_extension": ".py",
   "mimetype": "text/x-python",
   "name": "python",
   "nbconvert_exporter": "python",
   "pygments_lexer": "ipython3",
   "version": "3.7.4-final"
  }
 },
 "nbformat": 4,
 "nbformat_minor": 2
}