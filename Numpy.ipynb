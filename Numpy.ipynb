{
 "cells": [
  {
   "cell_type": "markdown",
   "metadata": {},
   "source": [
    "# NuPy (Numerical Python)\n",
    "## Introducción\n",
    "### ¿Qué es?\n",
    "NumPy es el paquete fundamental para cómputo científico en Python. Es una librería que provee de un objeto tipo arreglo multidimensional y varios objetos derivados tales como arreglos enmascarados y matrices, así como rutinas para operaciones ágiles con arreglos, incluyendo matemáticas, lógicas, manipulación de formas, ordenamiento, selección, I/O, transformadas discretas de Fourier, álgebra lineal básica, operaciones estadísticas básicas, simulación de valores aleatorios y más.\n",
    "\n",
    "### Beneficios\n",
    "* La estructura de datos ndarray es más eficiente para almacenar y manejar datos numéricos, en comparación con las estructuras de la distribución estándar de Python.\n",
    "* Las librerías escritas en lenguajes de bajo nivel -tales como C- pueden operar con datos almacenados en el ndarray de Numpy sin tener que copiar datos.\n",
    "\n",
    "## Estructura de datos (ndarray)\n",
    "### Concepto\n",
    "Arreglo multidimensional rápido y eficiente respecto al almacenamiento, el cual puede funcionar para almacenar datos homogéneos. Provee de operaciones aritméticas con soporte a vectorización.\n",
    "\n",
    "### Crear ndarray"
   ]
  },
  {
   "cell_type": "code",
   "execution_count": 2,
   "metadata": {},
   "outputs": [
    {
     "data": {
      "text/plain": [
       "array([0, 1, 2, 3, 4, 5, 6, 7, 8, 9])"
      ]
     },
     "execution_count": 2,
     "metadata": {},
     "output_type": "execute_result"
    }
   ],
   "source": [
    "import numpy as np\n",
    "#Crear un ndarray\n",
    "r = range(10)\n",
    "np.array(r)\n"
   ]
  },
  {
   "cell_type": "markdown",
   "metadata": {},
   "source": [
    "### Crer NdArray personalizados"
   ]
  },
  {
   "cell_type": "code",
   "execution_count": 3,
   "metadata": {},
   "outputs": [
    {
     "data": {
      "text/plain": [
       "array([0., 0., 0., 0., 0., 0., 0., 0., 0., 0.])"
      ]
     },
     "execution_count": 3,
     "metadata": {},
     "output_type": "execute_result"
    }
   ],
   "source": [
    "#Arreglo de una dimensión con 10 elementos con valor 0.\n",
    "np.zeros(10)"
   ]
  },
  {
   "cell_type": "code",
   "execution_count": 4,
   "metadata": {},
   "outputs": [
    {
     "data": {
      "text/plain": [
       "array([[1., 1., 1.],\n",
       "       [1., 1., 1.]])"
      ]
     },
     "execution_count": 4,
     "metadata": {},
     "output_type": "execute_result"
    }
   ],
   "source": [
    "# Arreglo de dos dimensiones con 6 elementos con valor 1.\n",
    "np.ones((2,3))"
   ]
  },
  {
   "cell_type": "code",
   "execution_count": 5,
   "metadata": {},
   "outputs": [
    {
     "data": {
      "text/plain": [
       "array([[ 1.22821803, -1.03700657,  0.01553553],\n",
       "       [ 1.17647568,  0.54810886,  0.69540176]])"
      ]
     },
     "execution_count": 5,
     "metadata": {},
     "output_type": "execute_result"
    }
   ],
   "source": [
    "# Arreglo de dos dimensiones con valores aleatorios\n",
    "randarray = np.random.randn(2,3)\n",
    "randarray"
   ]
  },
  {
   "cell_type": "code",
   "execution_count": 7,
   "metadata": {},
   "outputs": [
    {
     "data": {
      "text/plain": [
       "array([[[ 1.30257873e-311,  1.30255051e-311, -3.38460733e+125,\n",
       "          4.24407456e-290,  2.71963326e-307],\n",
       "        [ 1.33360320e+241,  3.98977649e-310,  1.17500849e-308,\n",
       "          2.00543682e-303,  1.29711354e+219],\n",
       "        [ 4.90385075e+252,  4.62485892e-303,  4.53595075e+223,\n",
       "          6.86722001e+149,  3.50640140e+151],\n",
       "        [ 3.01467454e+161, -2.12368096e+127,  2.56866385e+151,\n",
       "          2.59345485e+161,  8.81952217e+199]],\n",
       "\n",
       "       [[ 1.87239084e-311,  1.88743680e+007,  9.64347618e-313,\n",
       "          2.83088498e-307,  1.30434835e+214],\n",
       "        [ 4.65204814e+151,  6.70552254e-008,  2.71963326e-307,\n",
       "          1.33360320e+241,  4.66839074e-313],\n",
       "        [ 2.76187293e-306,  3.19125514e-241,  6.45658124e-111,\n",
       "          2.05737730e-099,  1.89118984e+219],\n",
       "        [ 1.87242432e-311,  1.93676345e-282,  1.89119590e+219,\n",
       "          2.30955689e+161,  8.31833568e-273]],\n",
       "\n",
       "       [[ 1.79209176e-313,  8.18434960e-085,  5.81821776e+180,\n",
       "          3.66216743e-263,  1.10262801e+161],\n",
       "        [ 2.14287040e-310,  1.88554309e-215,  1.23755120e+214,\n",
       "          5.57105833e+228,  6.03645698e-313],\n",
       "        [ 1.69357672e-307,  1.33360320e+241,  3.44654556e-310,\n",
       "          3.06836125e+257,  8.73989992e+245],\n",
       "        [ 1.82314764e-303,  9.11750442e-304,  8.20430632e-304,\n",
       "          5.77216270e-312,  1.13765852e-307]]])"
      ]
     },
     "execution_count": 7,
     "metadata": {},
     "output_type": "execute_result"
    }
   ],
   "source": [
    "#Arreglo de tres dimensiones con valores no inicializados\n",
    "np.empty((3,4,5))\n",
    "#La función empty no garantiza regresar valores cero"
   ]
  },
  {
   "cell_type": "code",
   "execution_count": 8,
   "metadata": {},
   "outputs": [
    {
     "data": {
      "text/plain": [
       "array([0, 1, 2, 3, 4])"
      ]
     },
     "execution_count": 8,
     "metadata": {},
     "output_type": "execute_result"
    }
   ],
   "source": [
    "# Versión de ndarray de la función range de Python\n",
    "np.arange(5)"
   ]
  },
  {
   "cell_type": "code",
   "execution_count": 9,
   "metadata": {},
   "outputs": [
    {
     "data": {
      "text/plain": [
       "(3, 4, 5)"
      ]
     },
     "execution_count": 9,
     "metadata": {},
     "output_type": "execute_result"
    }
   ],
   "source": [
    "# Obtener el número de dimensiones\n",
    "somearray = np.empty((3,4,5))\n",
    "somearray.shape"
   ]
  },
  {
   "cell_type": "code",
   "execution_count": 11,
   "metadata": {},
   "outputs": [
    {
     "data": {
      "text/plain": [
       "dtype('float64')"
      ]
     },
     "execution_count": 11,
     "metadata": {},
     "output_type": "execute_result"
    }
   ],
   "source": [
    "# Obtener el tipo de datos\n",
    "somearray.dtype"
   ]
  },
  {
   "cell_type": "code",
   "execution_count": 10,
   "metadata": {},
   "outputs": [
    {
     "data": {
      "text/plain": [
       "array([[[          0,           0, -2147483648,           0,\n",
       "                   0],\n",
       "        [-2147483648,           0,           0,           0,\n",
       "         -2147483648],\n",
       "        [-2147483648,           0, -2147483648, -2147483648,\n",
       "         -2147483648],\n",
       "        [-2147483648, -2147483648, -2147483648, -2147483648,\n",
       "         -2147483648]],\n",
       "\n",
       "       [[          0,    18874368,           0,           0,\n",
       "         -2147483648],\n",
       "        [-2147483648,           0,           0, -2147483648,\n",
       "                   0],\n",
       "        [          0,           0,           0,           0,\n",
       "         -2147483648],\n",
       "        [          0,           0, -2147483648, -2147483648,\n",
       "                   0]],\n",
       "\n",
       "       [[          0,           0, -2147483648,           0,\n",
       "         -2147483648],\n",
       "        [          0,           0, -2147483648, -2147483648,\n",
       "                   0],\n",
       "        [          0, -2147483648,           0, -2147483648,\n",
       "         -2147483648],\n",
       "        [          0,           0,           0,           0,\n",
       "                   0]]])"
      ]
     },
     "execution_count": 10,
     "metadata": {},
     "output_type": "execute_result"
    }
   ],
   "source": [
    "# Casting explícito\n",
    "somearray2 = somearray.astype(np.int32)\n",
    "somearray2.dtype\n",
    "somearray2"
   ]
  },
  {
   "cell_type": "markdown",
   "metadata": {},
   "source": [
    "## Slicing (índices y subconjuntos)\n",
    "\n",
    "* Slicing provee de una vista de los datos originales. No se copian los datos. Cualquier modificación a la vista se verá reflejada en los datos originales.\n",
    "* Es posible llevar a cabo una copia de los datos por medio de la función copy."
   ]
  },
  {
   "cell_type": "code",
   "execution_count": 12,
   "metadata": {},
   "outputs": [
    {
     "data": {
      "text/plain": [
       "<function ndarray.copy>"
      ]
     },
     "execution_count": 12,
     "metadata": {},
     "output_type": "execute_result"
    }
   ],
   "source": [
    "#Copia explícita\n",
    "somearray[2:6].copy"
   ]
  },
  {
   "cell_type": "code",
   "execution_count": 13,
   "metadata": {},
   "outputs": [
    {
     "data": {
      "text/plain": [
       "1.302578734001e-311"
      ]
     },
     "execution_count": 13,
     "metadata": {},
     "output_type": "execute_result"
    }
   ],
   "source": [
    "#El indexado de arreglos multidimensionales puede tener dos formas\n",
    "somearray[0][0][0]"
   ]
  },
  {
   "cell_type": "code",
   "execution_count": 14,
   "metadata": {},
   "outputs": [
    {
     "data": {
      "text/plain": [
       "1.302578734001e-311"
      ]
     },
     "execution_count": 14,
     "metadata": {},
     "output_type": "execute_result"
    }
   ],
   "source": [
    "somearray[0,0,0]"
   ]
  },
  {
   "cell_type": "markdown",
   "metadata": {},
   "source": [
    "## Transposición\n",
    "Una forma especial de cambio de forma que regresa una vsita de los datos, no copia."
   ]
  },
  {
   "cell_type": "code",
   "execution_count": 15,
   "metadata": {},
   "outputs": [
    {
     "data": {
      "text/plain": [
       "array([[-1.2286707 , -1.23662718, -1.88066463, -1.42548332],\n",
       "       [ 0.0267331 ,  0.34001253,  0.96244233, -0.09632356],\n",
       "       [ 2.08317824,  1.14760932,  1.50322482,  0.09191723]])"
      ]
     },
     "execution_count": 15,
     "metadata": {},
     "output_type": "execute_result"
    }
   ],
   "source": [
    "transposeme = np.random.randn(3,4)\n",
    "transposeme"
   ]
  },
  {
   "cell_type": "code",
   "execution_count": 16,
   "metadata": {},
   "outputs": [
    {
     "data": {
      "text/plain": [
       "array([[-1.2286707 ,  0.0267331 ,  2.08317824],\n",
       "       [-1.23662718,  0.34001253,  1.14760932],\n",
       "       [-1.88066463,  0.96244233,  1.50322482],\n",
       "       [-1.42548332, -0.09632356,  0.09191723]])"
      ]
     },
     "execution_count": 16,
     "metadata": {},
     "output_type": "execute_result"
    }
   ],
   "source": [
    "transposeme.T"
   ]
  },
  {
   "cell_type": "code",
   "execution_count": 17,
   "metadata": {},
   "outputs": [
    {
     "data": {
      "text/plain": [
       "array([[-1.2286707 ,  0.0267331 ,  2.08317824],\n",
       "       [-1.23662718,  0.34001253,  1.14760932],\n",
       "       [-1.88066463,  0.96244233,  1.50322482],\n",
       "       [-1.42548332, -0.09632356,  0.09191723]])"
      ]
     },
     "execution_count": 17,
     "metadata": {},
     "output_type": "execute_result"
    }
   ],
   "source": [
    "transposeme.transpose()"
   ]
  },
  {
   "cell_type": "code",
   "execution_count": 18,
   "metadata": {},
   "outputs": [
    {
     "data": {
      "text/plain": [
       "array([[-1.2286707 ,  0.0267331 ,  2.08317824],\n",
       "       [-1.23662718,  0.34001253,  1.14760932],\n",
       "       [-1.88066463,  0.96244233,  1.50322482],\n",
       "       [-1.42548332, -0.09632356,  0.09191723]])"
      ]
     },
     "execution_count": 18,
     "metadata": {},
     "output_type": "execute_result"
    }
   ],
   "source": [
    "transposeme.swapaxes(0,1)"
   ]
  },
  {
   "cell_type": "markdown",
   "metadata": {},
   "source": [
    "## Envolventes (wrappers) para funciones de Python que procesan datos escalares"
   ]
  },
  {
   "cell_type": "code",
   "execution_count": 19,
   "metadata": {},
   "outputs": [
    {
     "data": {
      "text/plain": [
       "array([[0.51547347, 0.27741235, 0.83169035],\n",
       "       [0.10722707, 0.09018416, 0.46820411],\n",
       "       [0.01335365, 0.10169216, 0.74912919],\n",
       "       [0.57976169, 0.45124001, 0.22481521]])"
      ]
     },
     "execution_count": 19,
     "metadata": {},
     "output_type": "execute_result"
    }
   ],
   "source": [
    "wrapme = np.random.rand(4,3)\n",
    "wrapme"
   ]
  },
  {
   "cell_type": "code",
   "execution_count": 20,
   "metadata": {},
   "outputs": [
    {
     "data": {
      "text/plain": [
       "3.1606961258558215"
      ]
     },
     "execution_count": 20,
     "metadata": {},
     "output_type": "execute_result"
    }
   ],
   "source": [
    "import math\n",
    "math.sqrt(9.99)"
   ]
  },
  {
   "cell_type": "code",
   "execution_count": 21,
   "metadata": {},
   "outputs": [
    {
     "ename": "TypeError",
     "evalue": "only size-1 arrays can be converted to Python scalars",
     "output_type": "error",
     "traceback": [
      "\u001b[1;31m---------------------------------------------------------------------------\u001b[0m",
      "\u001b[1;31mTypeError\u001b[0m                                 Traceback (most recent call last)",
      "\u001b[1;32m<ipython-input-21-aae68f1f2b6c>\u001b[0m in \u001b[0;36m<module>\u001b[1;34m\u001b[0m\n\u001b[1;32m----> 1\u001b[1;33m \u001b[0mmath\u001b[0m\u001b[1;33m.\u001b[0m\u001b[0msqrt\u001b[0m\u001b[1;33m(\u001b[0m\u001b[0mwrapme\u001b[0m\u001b[1;33m)\u001b[0m \u001b[1;31m# Produce error de tiempo de ejecución\u001b[0m\u001b[1;33m\u001b[0m\u001b[1;33m\u001b[0m\u001b[0m\n\u001b[0m",
      "\u001b[1;31mTypeError\u001b[0m: only size-1 arrays can be converted to Python scalars"
     ]
    }
   ],
   "source": [
    "math.sqrt(wrapme) # Produce error de tiempo de ejecución"
   ]
  },
  {
   "cell_type": "code",
   "execution_count": 22,
   "metadata": {},
   "outputs": [
    {
     "data": {
      "text/plain": [
       "array([[0.71796481, 0.52669948, 0.91197059],\n",
       "       [0.32745544, 0.30030678, 0.68425442],\n",
       "       [0.115558  , 0.31889208, 0.8655225 ],\n",
       "       [0.76142083, 0.67174401, 0.47414683]])"
      ]
     },
     "execution_count": 22,
     "metadata": {},
     "output_type": "execute_result"
    }
   ],
   "source": [
    "np.sqrt(wrapme)"
   ]
  },
  {
   "cell_type": "markdown",
   "metadata": {},
   "source": [
    "## Broadcasting\n",
    "Es posible crear expresiones en Python donde se combinen variables de múltiples dimensiones con operadores y variables escalares"
   ]
  },
  {
   "cell_type": "markdown",
   "metadata": {},
   "source": [
    "### Operaciones aritméticas con un arreglo numpy y valores escalares"
   ]
  },
  {
   "cell_type": "code",
   "execution_count": 23,
   "metadata": {},
   "outputs": [
    {
     "data": {
      "text/plain": [
       "array([[100],\n",
       "       [101],\n",
       "       [102],\n",
       "       [103]])"
      ]
     },
     "execution_count": 23,
     "metadata": {},
     "output_type": "execute_result"
    }
   ],
   "source": [
    "\n",
    "bcast1 = np.array(range(4))\n",
    "bcast1 = bcast1.reshape(-1,1)\n",
    "bcast1 + 100\n"
   ]
  },
  {
   "cell_type": "code",
   "execution_count": 24,
   "metadata": {},
   "outputs": [
    {
     "data": {
      "text/plain": [
       "array([[-1],\n",
       "       [ 0],\n",
       "       [ 1],\n",
       "       [ 2]])"
      ]
     },
     "execution_count": 24,
     "metadata": {},
     "output_type": "execute_result"
    }
   ],
   "source": [
    "bcast1 - 1"
   ]
  },
  {
   "cell_type": "code",
   "execution_count": 25,
   "metadata": {},
   "outputs": [
    {
     "data": {
      "text/plain": [
       "array([[ 0],\n",
       "       [10],\n",
       "       [20],\n",
       "       [30]])"
      ]
     },
     "execution_count": 25,
     "metadata": {},
     "output_type": "execute_result"
    }
   ],
   "source": [
    "bcast1 * 10"
   ]
  },
  {
   "cell_type": "code",
   "execution_count": 26,
   "metadata": {},
   "outputs": [
    {
     "data": {
      "text/plain": [
       "array([[0. ],\n",
       "       [0.5],\n",
       "       [1. ],\n",
       "       [1.5]])"
      ]
     },
     "execution_count": 26,
     "metadata": {},
     "output_type": "execute_result"
    }
   ],
   "source": [
    "bcast1 / 2"
   ]
  },
  {
   "cell_type": "code",
   "execution_count": 27,
   "metadata": {},
   "outputs": [
    {
     "data": {
      "text/plain": [
       "array([[0],\n",
       "       [1],\n",
       "       [2],\n",
       "       [3]])"
      ]
     },
     "execution_count": 27,
     "metadata": {},
     "output_type": "execute_result"
    }
   ],
   "source": [
    "bcast1"
   ]
  },
  {
   "cell_type": "markdown",
   "metadata": {},
   "source": [
    "### Operaciones con matrices de distintas dimensiones en las que se aplica broadcasting para alinear las dimensiones de las matrices y admitir la operación"
   ]
  },
  {
   "cell_type": "code",
   "execution_count": 28,
   "metadata": {},
   "outputs": [
    {
     "data": {
      "text/plain": [
       "array([[0, 1, 2],\n",
       "       [3, 4, 5]])"
      ]
     },
     "execution_count": 28,
     "metadata": {},
     "output_type": "execute_result"
    }
   ],
   "source": [
    "bcast2 = np.array(range(6)).reshape(2,3)\n",
    "bcast2"
   ]
  },
  {
   "cell_type": "code",
   "execution_count": 29,
   "metadata": {},
   "outputs": [
    {
     "data": {
      "text/plain": [
       "array([[100, 101, 102],\n",
       "       [103, 104, 105]])"
      ]
     },
     "execution_count": 29,
     "metadata": {},
     "output_type": "execute_result"
    }
   ],
   "source": [
    "bcast100 = np.array([100,100,100]).reshape(1,3)\n",
    "bcast2 + bcast100"
   ]
  },
  {
   "cell_type": "code",
   "execution_count": 30,
   "metadata": {},
   "outputs": [
    {
     "data": {
      "text/plain": [
       "array([[0, 1, 2],\n",
       "       [3, 4, 5],\n",
       "       [6, 7, 8]])"
      ]
     },
     "execution_count": 30,
     "metadata": {},
     "output_type": "execute_result"
    }
   ],
   "source": [
    "bcast3 = np.array(range(9)).reshape(3,-1)\n",
    "bcast3"
   ]
  },
  {
   "cell_type": "code",
   "execution_count": 31,
   "metadata": {},
   "outputs": [
    {
     "data": {
      "text/plain": [
       "array([[100],\n",
       "       [100],\n",
       "       [100]])"
      ]
     },
     "execution_count": 31,
     "metadata": {},
     "output_type": "execute_result"
    }
   ],
   "source": [
    "bcast4 = bcast100.reshape(3,-1)\n",
    "bcast4"
   ]
  },
  {
   "cell_type": "code",
   "execution_count": 32,
   "metadata": {},
   "outputs": [
    {
     "data": {
      "text/plain": [
       "array([[100, 101, 102],\n",
       "       [103, 104, 105],\n",
       "       [106, 107, 108]])"
      ]
     },
     "execution_count": 32,
     "metadata": {},
     "output_type": "execute_result"
    }
   ],
   "source": [
    "bcast3 + bcast4"
   ]
  },
  {
   "cell_type": "markdown",
   "metadata": {},
   "source": [
    "### Producto dot\n",
    "np.dot es el producto dot de dos matrices\n",
    "https://en.wikipedia.org/wiki/Dot_product\n",
    "\n",
    "|A B| (dot) |E F| = | A\\*E+B\\*G A\\*F+B\\*H |\n",
    "\n",
    "|C D|  .....  |G H| = | C\\*E+D\\*G C\\*F+D\\*H |"
   ]
  },
  {
   "cell_type": "code",
   "execution_count": 33,
   "metadata": {},
   "outputs": [
    {
     "data": {
      "text/plain": [
       "array([[0, 1],\n",
       "       [2, 3]])"
      ]
     },
     "execution_count": 33,
     "metadata": {},
     "output_type": "execute_result"
    }
   ],
   "source": [
    "mat1 = np.array(range(4)).reshape(2,-1)\n",
    "mat1"
   ]
  },
  {
   "cell_type": "code",
   "execution_count": 34,
   "metadata": {},
   "outputs": [
    {
     "data": {
      "text/plain": [
       "array([[10, 20],\n",
       "       [30, 40]])"
      ]
     },
     "execution_count": 34,
     "metadata": {},
     "output_type": "execute_result"
    }
   ],
   "source": [
    "mat2 = np.array([10,20,30,40]).reshape(2,-1)\n",
    "mat2"
   ]
  },
  {
   "cell_type": "code",
   "execution_count": 35,
   "metadata": {},
   "outputs": [
    {
     "data": {
      "text/plain": [
       "array([[ 30,  40],\n",
       "       [110, 160]])"
      ]
     },
     "execution_count": 35,
     "metadata": {},
     "output_type": "execute_result"
    }
   ],
   "source": [
    "np.dot(mat1,mat2)"
   ]
  },
  {
   "cell_type": "code",
   "execution_count": 36,
   "metadata": {},
   "outputs": [
    {
     "data": {
      "text/plain": [
       "array([[  0,  20],\n",
       "       [ 60, 120]])"
      ]
     },
     "execution_count": 36,
     "metadata": {},
     "output_type": "execute_result"
    }
   ],
   "source": [
    "#Multiplicación elemento-a-elemento de matrices\n",
    "mat1*mat2"
   ]
  },
  {
   "cell_type": "code",
   "execution_count": null,
   "metadata": {},
   "outputs": [],
   "source": []
  }
 ],
 "metadata": {
  "interpreter": {
   "hash": "d991d63f1333d071e4876458cb08cc2953af427fefb8b92f4b8d2b9ec10094fa"
  },
  "kernelspec": {
   "display_name": "Python 3.7.4 64-bit (conda)",
   "language": "python",
   "name": "python3"
  },
  "language_info": {
   "codemirror_mode": {
    "name": "ipython",
    "version": 3
   },
   "file_extension": ".py",
   "mimetype": "text/x-python",
   "name": "python",
   "nbconvert_exporter": "python",
   "pygments_lexer": "ipython3",
   "version": "3.7.10"
  }
 },
 "nbformat": 4,
 "nbformat_minor": 2
}
