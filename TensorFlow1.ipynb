{
 "cells": [
  {
   "cell_type": "markdown",
   "metadata": {},
   "source": [
    "# TensorFlow 1.0\n",
    "![Jeff Dean](images/jeff-dean.jpg)\n",
    "Jeff Dean, encargado de la refactorización de la base de código de DistBelief que se convertiría en TensorFlow.\n",
    "## Introducción\n",
    "TensorFlow es una plataforma integral de Machine Learning de código abierto. Cuenta con un ecosistema amplio y flexible de herramientas, librerías y comunidad que permite a los investigadores avanzar el estado del arte en ML. Habilita a los desarrolladores para crear y desplegar fácilmente aplicaciones habilitadas con ML.\n",
    "\n",
    "[tensorflow.org](https://tensorflow.org) es el sitio principal del proyecto.\n",
    "\n",
    "## Componentes del marco de trabajo\n",
    "TensorFlow tiene dos componentes:\n",
    "- Librería: para definir grafos computacionales.\n",
    "- Tiempo de ejecución: para ejecutar grafos en una diversas plataformas de hardware.\n",
    "\n",
    "[Arquitectura de TensorFlow](https://github.com/tensorflow/docs/blob/master/site/en/r1/guide/extend/architecture.md)\n",
    "\n",
    "### Grafos computacionales\n",
    "Los grafos computacionales son la representación de algoritmos de Machine Learning en TensorFlow, son un tipo de grafo dirigido en donde los nodos describen operaciones y los enlaces representan los datos (tensores) que fluyen entre las operaciones.\n",
    "\n",
    "Los grafos constan de:\n",
    "- Tensores: Descripción de un arreglo multidimensional. Tienen cardinalidad y un tipo de dato, pero no valores.\n",
    "- Operaciones: Tienen cero o más entradas y producen cero o más salidas. Pueden representar ecuaciones matemáticas, variables, constantes o directivas de control de flujo.\n",
    "- Variables: Todos los parámetros sujetos a entrenamiento de Machine Learning son _tf.Variables_. Una variable se define por su nombre, tipo, forma y procedimiento de inicialización. \n",
    "\n",
    "### Ventajas de los grafos computacionales\n",
    "- Calendarización conducida por dependencias. Las dependencias de datos dictan el orden de ejecución. Las operaciones que no dependen entre sí pueden calendarizarse para ejecución en paralelo.\n",
    "- Optimización de grafos. Tales como eliminación de grafos comunes.\n",
    "- Diferenciación automática. Facilita el cálculo de gradientes. Cuando se conocen los gradientes de la salida de cada operación con respecto a sus entradas directas, la regla de la cadena nos provee de gradientes para cualquier tensor con respecto a cualquier otro. Este proceso se conoce como autodiferenciación en modo inverso, y habilita el cómputo del gradiente de un nodo en el grafo con respecto a todos los demás en una sola pasada.\n",
    "\n",
    "## Tensores\n",
    "El cómputo en TensorFlow se expresa como un grafo de flujo de datos con estado. El nombre TensorFlow driva de las operaciones que las redes neuronales emplean en arreglos de datos multidimensionales, que se refieren como tensores.\n",
    "\n",
    "## Versiones de TensorFlow\n",
    "- 1.0.0 liberada en febrero de 2017\n",
    "- 2.0.0 disponible en septiembre de 2019"
   ]
  },
  {
   "cell_type": "code",
   "execution_count": 4,
   "metadata": {},
   "outputs": [
    {
     "ename": "AttributeError",
     "evalue": "module 'tensorflow' has no attribute 'Session'",
     "output_type": "error",
     "traceback": [
      "\u001b[1;31m---------------------------------------------------------------------------\u001b[0m",
      "\u001b[1;31mAttributeError\u001b[0m                            Traceback (most recent call last)",
      "\u001b[1;32m<ipython-input-4-cdd78d2e2c84>\u001b[0m in \u001b[0;36m<module>\u001b[1;34m\u001b[0m\n\u001b[0;32m      4\u001b[0m \u001b[1;33m\u001b[0m\u001b[0m\n\u001b[0;32m      5\u001b[0m \u001b[0mmsg\u001b[0m \u001b[1;33m=\u001b[0m \u001b[0mtf1\u001b[0m\u001b[1;33m.\u001b[0m\u001b[0mconstant\u001b[0m\u001b[1;33m(\u001b[0m\u001b[1;34m'Hello TensorFlow 1.0'\u001b[0m\u001b[1;33m)\u001b[0m\u001b[1;33m\u001b[0m\u001b[1;33m\u001b[0m\u001b[0m\n\u001b[1;32m----> 6\u001b[1;33m \u001b[0msess\u001b[0m \u001b[1;33m=\u001b[0m \u001b[0mtf1\u001b[0m\u001b[1;33m.\u001b[0m\u001b[0mSession\u001b[0m\u001b[1;33m(\u001b[0m\u001b[1;33m)\u001b[0m\u001b[1;33m\u001b[0m\u001b[1;33m\u001b[0m\u001b[0m\n\u001b[0m\u001b[0;32m      7\u001b[0m \u001b[0mprint\u001b[0m\u001b[1;33m(\u001b[0m\u001b[0msess\u001b[0m\u001b[1;33m.\u001b[0m\u001b[0mrun\u001b[0m\u001b[1;33m(\u001b[0m\u001b[0mmsg\u001b[0m\u001b[1;33m)\u001b[0m\u001b[1;33m)\u001b[0m\u001b[1;33m\u001b[0m\u001b[1;33m\u001b[0m\u001b[0m\n",
      "\u001b[1;31mAttributeError\u001b[0m: module 'tensorflow' has no attribute 'Session'"
     ]
    }
   ],
   "source": [
    "#TF default\n",
    "#Hello TensorFlow 1.0\n",
    "import tensorflow as tf1\n",
    "\n",
    "msg = tf1.constant('Hello TensorFlow 1.0')\n",
    "sess = tf1.Session()\n",
    "print(sess.run(msg))"
   ]
  },
  {
   "cell_type": "code",
   "execution_count": 5,
   "metadata": {},
   "outputs": [
    {
     "name": "stdout",
     "output_type": "stream",
     "text": [
      "b'Hello TensorFlow 1.0 with compatibility'\n"
     ]
    }
   ],
   "source": [
    "#Corriendo código de TensorFlow 1.0 en ambiente TensorFlow 2.0\n",
    "#Hello TensorFlow 1.0 code from TensorFlow 2.0 environment \n",
    "#Código de TensorFlow 1.0 en ambiente TensorFlow 2.0 con modo de compatibilidad v1\n",
    "import tensorflow.compat.v1 as tf1\n",
    "tf1.disable_v2_behavior()\n",
    "\n",
    "msg = tf1.constant('Hello TensorFlow 1.0 with compatibility')\n",
    "sess = tf1.Session()\n",
    "print(sess.run(msg))"
   ]
  },
  {
   "cell_type": "markdown",
   "metadata": {},
   "source": [
    "## Uso de grafos computacionales en TensorFlow 1.0\n",
    "Las funciones de la librería de TensorFlow permiten definir el grafo de cómputo con el objeto _tf.Graph_.\n",
    "\n",
    "El entorno de ejecución procesa el cómputo especificado en el grafo por medio del objeto _tf.Session_.\n",
    "\n",
    "_Eager execution_ es soportada en TensorFlow 1.0 por medio de la función de configuración\n",
    "\n",
    "`import tensorflow as tf\n",
    "tf.enable_eager_execution()`\n",
    "\n",
    "Sin especificación explícita, todas las operaciones (nodos) se añaden a la instancia global _tf.Graph_.\n",
    "\n",
    "Los grafos son estables y eficientes en desempeño, sin embargo su naturaleza no imperativa imponen una carga adicional en los desarrolladores."
   ]
  },
  {
   "cell_type": "code",
   "execution_count": 6,
   "metadata": {},
   "outputs": [
    {
     "name": "stdout",
     "output_type": "stream",
     "text": [
      "3.0\n"
     ]
    }
   ],
   "source": [
    "#TF 1.0\n",
    "import tensorflow.compat.v1 as tf1\n",
    "tf1.disable_v2_behavior()\n",
    "\n",
    "a = tf1.constant(1.0)\n",
    "b = tf1.constant(2.0)\n",
    "c = tf1.add(a,b) #la operación añade un nodo al la instancia global tf.Graph\n",
    "with tf1.Session()as sess:\n",
    "    print(sess.run(c))"
   ]
  },
  {
   "cell_type": "markdown",
   "metadata": {},
   "source": [
    "Para el caso de TensorFlow 1.0 se recomienda el uso explícito de _tf.Graph_ tal como se muestra a continuación:"
   ]
  },
  {
   "cell_type": "code",
   "execution_count": 7,
   "metadata": {},
   "outputs": [
    {
     "name": "stdout",
     "output_type": "stream",
     "text": [
      "2.0\n"
     ]
    }
   ],
   "source": [
    "#TF 1.0\n",
    "#import tensorflow.compat.v1 as tf1\n",
    "#tf1.disable_v2_behavior()\n",
    "\n",
    "g1 = tf1.Graph()\n",
    "\n",
    "with g1.as_default() as g:\n",
    "    a = tf1.constant(1.0)\n",
    "    b = tf1.constant(1.0)\n",
    "    c = tf1.add(a,b)\n",
    "\n",
    "with tf1.Session(graph = g1) as sess:\n",
    "    print(sess.run(c))"
   ]
  },
  {
   "cell_type": "markdown",
   "metadata": {},
   "source": [
    "El siguiente código ilustra el comportamiento de TensorFlow 1.0 por omisión, es decir sin la activación de _eager execution_"
   ]
  },
  {
   "cell_type": "code",
   "execution_count": 8,
   "metadata": {},
   "outputs": [
    {
     "name": "stdout",
     "output_type": "stream",
     "text": [
      "Tensor(\"Const_7:0\", shape=(2, 2), dtype=int32)\n"
     ]
    }
   ],
   "source": [
    "#TF 1.0\n",
    "import tensorflow.compat.v1 as tf1\n",
    "tf1.disable_v2_behavior()\n",
    "\n",
    "a = tf1.constant([[1,2],[3,4]])\n",
    "print(a)"
   ]
  },
  {
   "cell_type": "markdown",
   "metadata": {},
   "source": [
    "## Inyección de datos con _placeholder_\n",
    "Los _placeholders_ nos permiten ingresar datos en el grafo en tiempo de ejecución. "
   ]
  },
  {
   "cell_type": "code",
   "execution_count": 9,
   "metadata": {},
   "outputs": [
    {
     "name": "stdout",
     "output_type": "stream",
     "text": [
      "2.0\n",
      "3.0\n"
     ]
    }
   ],
   "source": [
    "#TF 1.0\n",
    "#import tensorflow.compat.v1 as tf1\n",
    "#tf1.disable_v2_behavior()\n",
    "\n",
    "a = tf1.placeholder(tf1.float32, [])\n",
    "b = tf1.constant(1.0)\n",
    "c = tf1.add(a,b)\n",
    "\n",
    "with tf1.Session() as session:\n",
    "    print(session.run(c, feed_dict={a:1.0}))\n",
    "    print(session.run(c, feed_dict={a:2.0}))"
   ]
  },
  {
   "cell_type": "markdown",
   "metadata": {},
   "source": [
    "Los placeholders pueden emplearse para inyectar datos en el grafo en tiempo de ejecución. Los placeholders se usan en el grafo como tensores pero en cada ejecución del grafo tomarán los valores que se especifiquen en el diccionario feed_dic provisto a _session.run_."
   ]
  },
  {
   "cell_type": "markdown",
   "metadata": {},
   "source": [
    "## Control de dependencias en TensorFlow 1.0\n",
    "Los desarrolladores familiarizados con Python encuentran diferencias en el paradigma computacional de TensorFlow 1.0 debido a que en él se requiere del objeto _tf.Session_ para la ejecución del grafo computacional, la declaración explícita de dependencias de variables y la falta de estatutos de control como `if`, `while` y `for`.\n",
    "\n",
    "Considerando el siguiente bloque de código, ¿cuál es el valor esperado del estatuto print: 11 o 3?"
   ]
  },
  {
   "cell_type": "code",
   "execution_count": 22,
   "metadata": {},
   "outputs": [
    {
     "name": "stdout",
     "output_type": "stream",
     "text": [
      "3.0\n"
     ]
    }
   ],
   "source": [
    "#TF 1.0\n",
    "#import tensorflow.compat.v1 as tf1\n",
    "#tf1.disable_v2_behavior()\n",
    "\n",
    "a = tf1.constant(1.0)\n",
    "b = tf1.Variable(2.0)\n",
    "assign_b = tf1.assign(b,10)\n",
    "c = tf1.add(a,b)\n",
    "with tf1.Session() as sess:\n",
    "    sess.run(tf1.global_variables_initializer())\n",
    "    print(sess.run(c))"
   ]
  },
  {
   "cell_type": "markdown",
   "metadata": {},
   "source": [
    "El valor no fue 11 debido a que hubo una dependencia implícita entre las operaciones __b__ y __assign_b__.\n",
    "\n",
    "Para declarar dependencias explícitas es necesario reescribir el código como sigue:"
   ]
  },
  {
   "cell_type": "code",
   "execution_count": 25,
   "metadata": {},
   "outputs": [
    {
     "name": "stdout",
     "output_type": "stream",
     "text": [
      "33.0\n"
     ]
    }
   ],
   "source": [
    "#TF 1.0\n",
    "#import tensorflow.compat.v1 as tf1\n",
    "#tf1.disable_v2_behavior()\n",
    "\n",
    "a = tf1.constant(1.0)\n",
    "b = tf1.Variable(2.0)\n",
    "assign_b = tf1.assign(b,10)\n",
    "with tf1.control_dependencies([assign_b]):\n",
    "    c = tf1.add(b,c)\n",
    "    \n",
    "with tf1.Session() as sess:\n",
    "    sess.run(tf1.global_variables_initializer())\n",
    "    print(sess.run(c))"
   ]
  }
 ],
 "metadata": {
  "kernelspec": {
   "display_name": "Python 3",
   "language": "python",
   "name": "python3"
  },
  "language_info": {
   "codemirror_mode": {
    "name": "ipython",
    "version": 3
   },
   "file_extension": ".py",
   "mimetype": "text/x-python",
   "name": "python",
   "nbconvert_exporter": "python",
   "pygments_lexer": "ipython3",
   "version": "3.7.6"
  }
 },
 "nbformat": 4,
 "nbformat_minor": 4
}
