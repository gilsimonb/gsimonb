{
 "cells": [
  {
   "cell_type": "markdown",
   "metadata": {},
   "source": [
    "# TensorFlow Serving con Docker\n",
    "Una de las formas más sencillas de iniciar con TensorFlow Serving es con Docker.\n",
    "\n",
    "Ventana de comando:\n",
    "`docker pull tensorflow/serving`\n",
    "\n",
    "Descargar el respositorio de TensorFlow Serving.\n",
    "`git clone https://github.com/tensorflow/serving`\n",
    "\n",
    "Ubicar el directorio de los modelos de demostración\n",
    "`C:\\src\\tensorflow\\serving\\tensorflow_serving\\servables\\tensorflow\\testdata`\n",
    "\n",
    "Iniciar el contenedor de TensorFlow Serving y abrir el puerto del API REST.\n",
    "```\n",
    "docker run -t --rm -p 8501:8501 \\\n",
    "    -v \"C:\\src\\tensorflow\\serving\\tensorflow_serving\\servables\\tensorflow\\testdata\\saved_model_half_plus_two_cpu:/models/half_plus_two\" \\\n",
    "    -e MODEL_NAME=half_plus_two \\\n",
    "    tensorflow/serving &\n",
    "```\n",
    "\n",
    "Consultar el modelo usando el API Predict desde una terminal bash:\n",
    "```\n",
    "curl -d '{\"instances\": [1.0, 2.0, 5.0]}' \\\n",
    "    -X POST http://localhost:8501/v1/models/half_plus_two:predict\n",
    "```"
   ]
  }
 ],
 "metadata": {
  "kernelspec": {
   "display_name": "Python 3",
   "language": "python",
   "name": "python3"
  },
  "language_info": {
   "codemirror_mode": {
    "name": "ipython",
    "version": 3
   },
   "file_extension": ".py",
   "mimetype": "text/x-python",
   "name": "python",
   "nbconvert_exporter": "python",
   "pygments_lexer": "ipython3",
   "version": "3.7.6"
  }
 },
 "nbformat": 4,
 "nbformat_minor": 4
}
