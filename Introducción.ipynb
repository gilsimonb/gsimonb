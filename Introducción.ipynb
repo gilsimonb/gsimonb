{
 "cells": [
  {
   "cell_type": "markdown",
   "metadata": {},
   "source": [
    "# Plataformas Deep Learning"
   ]
  },
  {
   "cell_type": "markdown",
   "metadata": {},
   "source": [
    "## Mark 1 Perceptron (1960)\n",
    "![Perceptrón](images/perceptron-smithsonian.jpg)\n",
    "La primera implementación del perceptron fue en software para la IBM 704 y posteriormente en hardware personalizado conocido como \"Mark I perceptron\" y fue la primera red neuronal artificial producida."
   ]
  },
  {
   "cell_type": "markdown",
   "metadata": {},
   "source": [
    "## Torch (2002)\n",
    "![Torch](images/torch.jpg)\n",
    "\n",
    "Librería de machine learning de código abierto, marco de trabajo para cómputo científico, lenguaje de scripting basado en el lenguaje Lua. Provee de algoritmos para deep learning. [torch.ch](http://torch.ch/)"
   ]
  },
  {
   "cell_type": "markdown",
   "metadata": {},
   "source": [
    "## CUDA (2007)\n",
    "![CUDA](images/cuda.png)\n",
    "\n",
    "Pataforma de cómputo paralelo y modelo de programación desarrollado por NVIDIA para cómputo general en unidades de procesamiento gráfico /(GPUs). [CUDA](https://developer.nvidia.com/cuda-zone)"
   ]
  },
  {
   "cell_type": "markdown",
   "metadata": {},
   "source": [
    "## Theano (2008)\n",
    "![Theano](images/theano.png)\n",
    "\n",
    "Librería de Python y compilador de optimización para manipular y evaluar expresiones matemáticas, especialmente matriciales. El cómputo se expresa en sintaxis de NumPy. [theano](http://deeplearning.net/software/theano/)"
   ]
  },
  {
   "cell_type": "markdown",
   "metadata": {},
   "source": [
    "## Caffe (2014)\n",
    "![Caffee](images/caffee.png)\n",
    "\n",
    "Marco de trabajo de código abierto para deep learning desarrollado por University of California, Berkeley. [Caffee](https://caffe.berkeleyvision.org/)"
   ]
  },
  {
   "cell_type": "markdown",
   "metadata": {},
   "source": [
    "# Keras (2015)\n",
    "![Keras](images/keras.png)\n",
    "\n",
    "Librería de código abierto para redes neuronales escrita en Python. Es capaz de correr sobre TensorFlow, Microsoft Cognitive Toolkit, R, Theano, PlaidML. Diseñada para habilitar experimentación ágil con redes neuronales profundas. [keras.io](http://keras.io/)"
   ]
  },
  {
   "cell_type": "markdown",
   "metadata": {},
   "source": [
    "## PyTorch  (0.1-1.0/2017)\n",
    "![PyTorch](images/pytorch.png)\n",
    "\n",
    "Librería de código abierto de Machine Learning basada en la librería Torch, empleada en aplicaciones como visión computacional y procesamiento de lenguaje natural. Desarrollada por el laboratorio de IA de Facebook. [pytorch.org](https://pytorch.org/)"
   ]
  },
  {
   "cell_type": "markdown",
   "metadata": {},
   "source": [
    "## TensorFlow  (0.1/2015, 2.0/2019)\n",
    "![TensorFlow](images/tensorflow-logo.png)\n",
    "\n",
    "Librería de código abierto para flujo de datos y programación diferenciable para diversas tareas. Tiene un amplio ecosistema de herramientas, librerías y recursos de comunidad. [tensorflow.org](https://www.tensorflow.org/)"
   ]
  }
 ],
 "metadata": {
  "kernelspec": {
   "display_name": "Python 3",
   "language": "python",
   "name": "python3"
  },
  "language_info": {
   "codemirror_mode": {
    "name": "ipython",
    "version": 3
   },
   "file_extension": ".py",
   "mimetype": "text/x-python",
   "name": "python",
   "nbconvert_exporter": "python",
   "pygments_lexer": "ipython3",
   "version": "3.7.6"
  }
 },
 "nbformat": 4,
 "nbformat_minor": 4
}
