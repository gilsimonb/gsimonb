{
 "cells": [
  {
   "cell_type": "markdown",
   "metadata": {},
   "source": [
    "## Actualización de código de TensorFlow 1.0 a 2.0\n",
    "El artículo [Migrate your TensorFlow 1 code to TensorFlow 1](https://www.tensorflow.org/guide/migrate) describe las siguientes estrategias:\n",
    "- Importar tensorflow en modo de compatibilidad con 1.0\n",
    "    - Implica no tomar ventaja de las diversas mejoras en TensorFlow 2.0\n",
    "- Ejecutar el script de actualización TF1.0 a TF2.0\n",
    "- Actualizar el código manualmente de acuerdo con los lineamientos del documento, que permiten contar con código más simple, con mejor desempeño y más fácil de mantener\n",
    "\n",
    "### Script de actualización de TensorFlow 1.0 a TensorFlow 2.0\n",
    "[Enlace a la documentación del script](https://www.tensorflow.org/guide/upgrade)\n",
    "\n",
    "El script se instala por default con TensorFlow 2.0 en la siguiente ruta: `[TF_ENVIRONMENT_PATH]\\Lib\\site-packages\\tensorflow_core\\tools\\compatibility`\n",
    "\n",
    "tf_upgrade_v2_main.py es el punto de entrada del script, su documentación se accede por medio de `python tf_upgrade_v2_main.py -h` \n"
   ]
  }
 ],
 "metadata": {
  "kernelspec": {
   "display_name": "Python 3",
   "language": "python",
   "name": "python3"
  },
  "language_info": {
   "codemirror_mode": {
    "name": "ipython",
    "version": 3
   },
   "file_extension": ".py",
   "mimetype": "text/x-python",
   "name": "python",
   "nbconvert_exporter": "python",
   "pygments_lexer": "ipython3",
   "version": "3.7.6"
  }
 },
 "nbformat": 4,
 "nbformat_minor": 4
}
