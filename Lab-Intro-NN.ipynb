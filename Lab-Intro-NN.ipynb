{
 "cells": [
  {
   "cell_type": "markdown",
   "metadata": {},
   "source": [
    "# Laboratorio de introducción a redes neuronales\n",
    "\n",
    "## El perceptrón\n",
    "\n",
    "Nota: En lo sucesivo haremos referencia al concepto de nodo como equivalente a los términos célula o neurona empleados en la clase.\n",
    "\n",
    "Recordemos que el perceptrón de una sola capa es la forma más simple de una red neuronal el cual consta de:\n",
    "* Una capa de entrada con tantos nodos como variables independientes haya en el modelo (identificadas por x).\n",
    "* Una capa de procesamiento y salida con un nodo (identificada por y^).\n",
    "\n",
    "\n",
    "Recordemos que en el nodo de la capa de procesamiento y salida se llevan a cabo dos tareas:\n",
    "\n",
    "1. Cálculo de una suma ponderada (identificada por Z) de los valores de todos los nodos de entrada multiplicados por un peso (identificado por w).\n",
    "1. Cálculo de una función de activación (identificada por A), para el caso del perceptrón la función sign. Más adelante veremos otros tipos de redes neuronales donde se usan otras funciones de activación. sign(x) = 1 cuando x>0 y -1 cuando x<=0\n",
    "\n",
    "\n",
    "![Perceptrón](images/perceptron.png \"Perceptrón\")\n",
    "\n",
    "Uno de los retos de los perceptrones de una sola capa es que solamente pueden aprender a reconocer patrones que sean linearmente separables. Un perceptrón puede aprender a reconocer funciones lógicas como AND, OR, XOR, NOR. Sin embargo no puede reconocer la función lógica XOR.\n",
    "\n",
    "## Arquitecturas de redes neuronales\n",
    "* Redes neuronales de una sola capa feed-forward: Tienen una capa de entrada y una capa de salida. No tienen conexiones de retroalimentación (es decir que haya conexiones de una capa posterior a capas anteriores).\n",
    "* Redes neuronales de múltiples capas feed-forward: Tienen una capa de entrada, una capa de salida y una o más capas ocultas con unidades de procesamiento. Tampoco tienen conexiones de retroalimentación.\n",
    "* Redes neuronales recurrentes: Cualquier red neuronal con al menos una conexión de retroalimentación que podrían tener capas ocultas.\n",
    "\n",
    "## Proceso para constuir redes neuronales\n",
    "La definición de soluciones con redes neuronales para problemas específicos consta de un proceso de múltiples etapas:\n",
    "\n",
    "1. Comprender y especificar el problema en téminos de las entradas y las salidas requeridas.\n",
    "1. Tomar la forma más simple de una red neuronal que consideremos podría solucionar el problema.\n",
    "1. Buscar el valor óptimo para los pesos para que la red genere las salidas adecuadas para cada elemento del conjunto de datos de entrenamiento.\n",
    "1. Asegurar que la red funciona con los datos de entrenamiento y que generaliza adecuadamente con datos de prueba.\n",
    "1. Si la red no tiene un desempeño adecuado, regresar a los paso 3, 2 o incluso 1 en búsqueda de mejoras.\n",
    "\n",
    "\n",
    "## Las redes neuronales feedforward\n",
    "Son redes neuronales artificiales que cuentan con una capa de entrada, una capa oculta y una capa de salida en las que las conexiones entre los nodos (o células o neuronas) no forman ciclos.\n",
    "\n"
   ]
  },
  {
   "cell_type": "markdown",
   "metadata": {},
   "source": [
    "## Ejercicio: Neuronas como compuertas lógicas\n",
    "En este ejercicio experimentaremos con el cómputo de neuronas. Mostraremos cómo representar funciones lógicas básicas como AND, OR y XOR empleando neuronas sencillas (o estructuras más complicadas). Finalmente al final mostraremos cómo representar las redes neuronales como una secuencia de cómputo matricial."
   ]
  },
  {
   "cell_type": "code",
   "execution_count": 1,
   "metadata": {},
   "outputs": [],
   "source": [
    "import numpy as np\n",
    "import matplotlib.pyplot as plt\n",
    "%matplotlib inline"
   ]
  },
  {
   "cell_type": "markdown",
   "metadata": {},
   "source": [
    "### Función sigmoidal:\n",
    "\n",
    "$$\n",
    "\\sigma = \\frac{1}{1 + e^{-x}}\n",
    "$$\n",
    "\n",
    "$\\sigma$ tiene un rango (0, 1). Cuando la entrada $x$ es negativa, $\\sigma$ tiene un valor cercano a 0. Cuando $x$ es positivo, $\\sigma$ tiene un valor cercano a 1. En $x=0$, $\\sigma=0.5$"
   ]
  },
  {
   "cell_type": "code",
   "execution_count": 2,
   "metadata": {},
   "outputs": [],
   "source": [
    "## Quickly define the sigmoid function\n",
    "def sigmoid(x):\n",
    "    \"\"\"Sigmoid function\"\"\"\n",
    "    return 1.0 / (1.0 + np.exp(-x))"
   ]
  },
  {
   "cell_type": "code",
   "execution_count": 3,
   "metadata": {},
   "outputs": [
    {
     "data": {
      "image/png": "[encoded data removed]",
      "text/plain": [
       "<Figure size 864x432 with 1 Axes>"
      ]
     },
     "metadata": {
      "needs_background": "light"
     },
     "output_type": "display_data"
    }
   ],
   "source": [
    "# Plot the sigmoid function\n",
    "vals = np.linspace(-10, 10, num=100, dtype=np.float32)\n",
    "activation = sigmoid(vals)\n",
    "fig = plt.figure(figsize=(12,6))\n",
    "plt.plot(vals, activation)\n",
    "plt.grid(True, which='both')\n",
    "plt.axhline(y=0, color='k')\n",
    "plt.axvline(x=0, color='k')\n",
    "plt.yticks()\n",
    "plt.ylim([-0.5, 1.5]);"
   ]
  },
  {
   "cell_type": "markdown",
   "metadata": {},
   "source": [
    "### Conceptualizando las neuronas como compuertas lógicas\n",
    "\n",
    "Una compuerta lógica toma dos valores booleanos (verdadero/falso o 1/0) como entrada y regresa 0 o 1 dependiendo de sus reglas. La tabla de verdad de una compuerta lógica muestra las salidas para cada combinación de entradas, (0, 0), (0, 1), (1,0), and (1, 1). Por ejemplo, veamos la tabla de verdad de la compuerta \"OR\":\n",
    "\n",
    "### Compuerta OR\n",
    "\n",
    "<table>\n",
    "\n",
    "<tr>\n",
    "<th colspan=\"3\">Tabla de verdad compuerta OR</th>\n",
    "</tr>\n",
    "\n",
    "<tr>\n",
    "<th colspan=\"2\">Input</th>\n",
    "<th>Output</th>\n",
    "</tr>\n",
    "\n",
    "<tr>\n",
    "<td>0</td>\n",
    "<td>0</td>\n",
    "<td>0</td>\n",
    "</tr>\n",
    "\n",
    "<tr>\n",
    "<td>0</td>\n",
    "<td>1</td>\n",
    "<td>1</td>\n",
    "</tr>\n",
    "\n",
    "<tr>\n",
    "<td>1</td>\n",
    "<td>0</td>\n",
    "<td>1</td>\n",
    "</tr>\n",
    "\n",
    "<tr>\n",
    "<td>1</td>\n",
    "<td>1</td>\n",
    "<td>1</td>\n",
    "</tr>\n",
    "\n",
    "</table>\n",
    "\n",
    "Una compuerta que usa la función de activaciónn sigmoidal, produce un valor entre (0, 1). Esto nos lleva naturalmente a pensar respecto a valores booleanos. Imagina que una neurona recibe dos entradas $x_1$ and $x_2$ y un término bias:\n",
    "\n",
    "![](images/logic01.png)\n",
    "\n",
    "Al limitar las entradas de $x_1$ y $x_2$ a estar en $\\left\\{0, 1\\right\\}$, podemos simular el efecto de compuertas lógicas con nuestra neurona. La meta es encontrar los pesos (representados por símbolos ? arriba), de tal forma que regresen una salida cercana a 0 o 1 dependiendo de sus entradas.\n",
    "\n",
    "¿Qué valores deben tener los pesos para que esta compuerta genere la salidas del operador OR? Recuerda $\\sigma(z)$ es cercano a 0 cuando $z$ es un número negativo (cerca de -10 o menos), y es cercano a 1 cuando $z$ es un número positivo (cerca de +10 o más).\n",
    "\n",
    "$$\n",
    "z = w_1 x_1 + w_2 x_2 + b\n",
    "$$\n",
    "\n",
    "Analicemos:\n",
    "\n",
    "* Cuando $x_1$ y $x_2$ tienen el valor 0, el único valor que afecta a $z$ es $b$. Dado que queremos que el resultado de (0, 0) esté cercano a 0, $b$ debe ser negativo (al menos -10)\n",
    "* Si $x_1$ o $x_2$ es 1, queremos que la salida esté cercana a 1. Esto significa que los pesos asociados a $x_1$ y $x_2$ deben ser suficientes para contrarrestar $b$ al punto de causar que $z$ sea por lo menos 10.\n",
    "* Asignemos a $b$ un valor de -10. ¿Qué tan grandes deben ser $w_1$ and $w_2$?\n",
    "    * Por lo menos +20\n",
    "* Intentemos $w_1=20$, $w_2=20$, y $b=-10$!\n",
    "\n",
    "![](images/logic02.png)"
   ]
  },
  {
   "cell_type": "code",
   "execution_count": 4,
   "metadata": {},
   "outputs": [],
   "source": [
    "def logic_gate(w1, w2, b):\n",
    "    # Helper to create logic gate functions\n",
    "    # Plug in values for weight_a, weight_b, and bias\n",
    "    return lambda x1, x2: sigmoid(w1 * x1 + w2 * x2 + b)\n",
    "\n",
    "def test(gate):\n",
    "    # Helper function to test out our weight functions.\n",
    "    for a, b in (0, 0), (0, 1), (1, 0), (1, 1):\n",
    "        print(\"{}, {}: {}\".format(a, b, np.round(gate(a, b))))"
   ]
  },
  {
   "cell_type": "code",
   "execution_count": 5,
   "metadata": {},
   "outputs": [
    {
     "name": "stdout",
     "output_type": "stream",
     "text": [
      "0, 0: 0.0\n",
      "0, 1: 1.0\n",
      "1, 0: 1.0\n",
      "1, 1: 1.0\n"
     ]
    }
   ],
   "source": [
    "or_gate = logic_gate(20, 20, -10)\n",
    "test(or_gate)"
   ]
  },
  {
   "cell_type": "markdown",
   "metadata": {},
   "source": [
    "<table>\n",
    "\n",
    "<tr>\n",
    "<th colspan=\"3\">tabla de verdad OR</th>\n",
    "</tr>\n",
    "\n",
    "<tr>\n",
    "<th colspan=\"2\">Input</th>\n",
    "<th>Output</th>\n",
    "</tr>\n",
    "\n",
    "<tr>\n",
    "<td>0</td>\n",
    "<td>0</td>\n",
    "<td>0</td>\n",
    "</tr>\n",
    "\n",
    "<tr>\n",
    "<td>0</td>\n",
    "<td>1</td>\n",
    "<td>1</td>\n",
    "</tr>\n",
    "\n",
    "<tr>\n",
    "<td>1</td>\n",
    "<td>0</td>\n",
    "<td>1</td>\n",
    "</tr>\n",
    "\n",
    "<tr>\n",
    "<td>1</td>\n",
    "<td>1</td>\n",
    "<td>1</td>\n",
    "</tr>\n",
    "\n",
    "</table>\n",
    "\n",
    "¡Eso corresponde, excelente! Ahora trata de encontrar los valores apropiados de los pesos para cada tabla de verdad. Evitar usar el método de prueba y error. Piensa de forma lógica y trata de derivar valores que funcionen. \n",
    "\n",
    "### Compuerta AND\n",
    "\n",
    "<table>\n",
    "\n",
    "<tr>\n",
    "<th colspan=\"3\">Tabla de verdad compuerta AND</th>\n",
    "</tr>\n",
    "\n",
    "<tr>\n",
    "<th colspan=\"2\">Input</th>\n",
    "<th>Output</th>\n",
    "</tr>\n",
    "\n",
    "<tr>\n",
    "<td>0</td>\n",
    "<td>0</td>\n",
    "<td>0</td>\n",
    "</tr>\n",
    "\n",
    "<tr>\n",
    "<td>0</td>\n",
    "<td>1</td>\n",
    "<td>0</td>\n",
    "</tr>\n",
    "\n",
    "<tr>\n",
    "<td>1</td>\n",
    "<td>0</td>\n",
    "<td>0</td>\n",
    "</tr>\n",
    "\n",
    "<tr>\n",
    "<td>1</td>\n",
    "<td>1</td>\n",
    "<td>1</td>\n",
    "</tr>\n",
    "\n",
    "</table>"
   ]
  },
  {
   "cell_type": "markdown",
   "metadata": {},
   "source": [
    "## Ejercicio\n",
    "Determina los valores para las neuronas que harán a esta función una compuerta AND. Valores cercanos a 15 podrían funcionar bien."
   ]
  },
  {
   "cell_type": "code",
   "execution_count": 6,
   "metadata": {},
   "outputs": [
    {
     "name": "stdout",
     "output_type": "stream",
     "text": [
      "0, 0: 0.0\n",
      "0, 1: 0.0\n",
      "1, 0: 0.0\n",
      "1, 1: 1.0\n"
     ]
    }
   ],
   "source": [
    "# TO DO: Fill in the w1, w2, and b parameters such that the truth table matches\n",
    "and_gate = logic_gate(15,15,-20)\n",
    "#and_gate = logic_gate(-20, 15,-15) -> IP!\n",
    "\n",
    "test(and_gate)"
   ]
  },
  {
   "cell_type": "markdown",
   "metadata": {},
   "source": [
    "## Ejercicio\n",
    "Realiza el mismo procedimiento para calcular los valores de los pesos de las compuertas NOR y NAND."
   ]
  },
  {
   "cell_type": "markdown",
   "metadata": {},
   "source": [
    "### Compuerta NOR (Not Or)\n",
    "\n",
    "<table>\n",
    "\n",
    "<tr>\n",
    "<th colspan=\"3\">Tabla de verdad compuerta NOR</th>\n",
    "</tr>\n",
    "\n",
    "<tr>\n",
    "<th colspan=\"2\">Input</th>\n",
    "<th>Output</th>\n",
    "</tr>\n",
    "\n",
    "<tr>\n",
    "<td>0</td>\n",
    "<td>0</td>\n",
    "<td>1</td>\n",
    "</tr>\n",
    "\n",
    "<tr>\n",
    "<td>0</td>\n",
    "<td>1</td>\n",
    "<td>0</td>\n",
    "</tr>\n",
    "\n",
    "<tr>\n",
    "<td>1</td>\n",
    "<td>0</td>\n",
    "<td>0</td>\n",
    "</tr>\n",
    "\n",
    "<tr>\n",
    "<td>1</td>\n",
    "<td>1</td>\n",
    "<td>0</td>\n",
    "</tr>\n",
    "\n",
    "</table>"
   ]
  },
  {
   "cell_type": "code",
   "execution_count": 7,
   "metadata": {},
   "outputs": [
    {
     "name": "stdout",
     "output_type": "stream",
     "text": [
      "0, 0: 1.0\n",
      "0, 1: 0.0\n",
      "1, 0: 0.0\n",
      "1, 1: 0.0\n"
     ]
    }
   ],
   "source": [
    "# TO DO: Fill in the w1, w2, and b parameters such that the truth table matches\n",
    "#nor_gate = logic_gate(0, 0, 0)\n",
    "nor_gate = logic_gate(-20, -20, 10)\n",
    "\n",
    "#nor_gate = logic_gate(10, -20, -20) -> IP!\n",
    "test(nor_gate)"
   ]
  },
  {
   "cell_type": "markdown",
   "metadata": {},
   "source": [
    "### Compuerta NAND (Not And)\n",
    "\n",
    "<table>\n",
    "\n",
    "<tr>\n",
    "<th colspan=\"3\">Tabla de verdad compuerta NAND</th>\n",
    "</tr>\n",
    "\n",
    "<tr>\n",
    "<th colspan=\"2\">Input</th>\n",
    "<th>Output</th>\n",
    "</tr>\n",
    "\n",
    "<tr>\n",
    "<td>0</td>\n",
    "<td>0</td>\n",
    "<td>1</td>\n",
    "</tr>\n",
    "\n",
    "<tr>\n",
    "<td>0</td>\n",
    "<td>1</td>\n",
    "<td>1</td>\n",
    "</tr>\n",
    "\n",
    "<tr>\n",
    "<td>1</td>\n",
    "<td>0</td>\n",
    "<td>1</td>\n",
    "</tr>\n",
    "\n",
    "<tr>\n",
    "<td>1</td>\n",
    "<td>1</td>\n",
    "<td>0</td>\n",
    "</tr>\n",
    "\n",
    "</table>"
   ]
  },
  {
   "cell_type": "code",
   "execution_count": 8,
   "metadata": {},
   "outputs": [
    {
     "name": "stdout",
     "output_type": "stream",
     "text": [
      "0, 0: 1.0\n",
      "0, 1: 1.0\n",
      "1, 0: 1.0\n",
      "1, 1: 0.0\n"
     ]
    }
   ],
   "source": [
    "# TO DO: Fill in the w1, w2, and b parameters such that the truth table matches\n",
    "#nand_gate = logic_gate(0, 0, 0)\n",
    "nand_gate = logic_gate(-15, -15, 20)\n",
    "\n",
    "#nand_gate = logic_gate(20, -15, -15) -> IP!\n",
    "test(nand_gate)"
   ]
  },
  {
   "cell_type": "markdown",
   "metadata": {},
   "source": [
    "## Los límites de neuronas sencillas\n",
    "\n",
    "Las compuertas XOR son la base del cómputo. Se emplean como \"half-adders\" para poder sumar números. A continuación la tabla de verdad de XOR.\n",
    "\n",
    "### Compuerta XOR (Exclusive Or)\n",
    "\n",
    "<table>\n",
    "\n",
    "<tr>\n",
    "<th colspan=\"3\">Tabla de verdad compuerta XOR</th>\n",
    "</tr>\n",
    "\n",
    "<tr>\n",
    "<th colspan=\"2\">Input</th>\n",
    "<th>Output</th>\n",
    "</tr>\n",
    "\n",
    "<tr>\n",
    "<td>0</td>\n",
    "<td>0</td>\n",
    "<td>0</td>\n",
    "</tr>\n",
    "\n",
    "<tr>\n",
    "<td>0</td>\n",
    "<td>1</td>\n",
    "<td>1</td>\n",
    "</tr>\n",
    "\n",
    "<tr>\n",
    "<td>1</td>\n",
    "<td>0</td>\n",
    "<td>1</td>\n",
    "</tr>\n",
    "\n",
    "<tr>\n",
    "<td>1</td>\n",
    "<td>1</td>\n",
    "<td>0</td>\n",
    "</tr>\n",
    "\n",
    "</table>\n",
    "\n",
    "¿Es posible definir un conjunto de pesos para definir el operador XOR con una sola neurona?\n",
    "\n",
    "En realidad no es posible. Una sola neurona no puede correlacionar las entradas. ¿Será posible usar el modelo de cómputo neuronal para formar una compuerta XOR?\n",
    "\n",
    "Podríamos intentar algo más complejo:\n",
    "\n",
    "![](images/logic03.png)\n",
    "\n",
    "Aquí,, tenemos entradas que van a dos compuertas separadas: la neurona superior es una compuerta OR, y la inferior es una compuerta NAND. La salida de estas compuertas se pasan a otra neurona que es AND. Si trabajas las salidas de cada combinación de entradas verás que es una compuerta XOR.\n"
   ]
  },
  {
   "cell_type": "code",
   "execution_count": 9,
   "metadata": {},
   "outputs": [
    {
     "name": "stdout",
     "output_type": "stream",
     "text": [
      "0, 0: 0.0\n",
      "0, 1: 1.0\n",
      "1, 0: 1.0\n",
      "1, 1: 0.0\n"
     ]
    }
   ],
   "source": [
    "# Make sure you have or_gate, nand_gate, and and_gate working from above!\n",
    "\n",
    "def xor_gate(a, b):\n",
    "    c = or_gate(a, b)\n",
    "    d = nand_gate(a, b)\n",
    "    return and_gate(c, d)\n",
    "test(xor_gate)"
   ]
  },
  {
   "cell_type": "code",
   "execution_count": 10,
   "metadata": {},
   "outputs": [
    {
     "name": "stdout",
     "output_type": "stream",
     "text": [
      "0, 0: 0.0\n",
      "0, 1: 1.0\n",
      "1, 0: 1.0\n",
      "1, 1: 0.0\n"
     ]
    }
   ],
   "source": [
    "test(xor_gate)"
   ]
  },
  {
   "cell_type": "markdown",
   "metadata": {},
   "source": [
    "## Redes Feedforward Networks como cómputo matricial\n",
    "\n",
    "El cómputo feed-forward de una red neuronal puede ser considerado cálcula de matrices y funciones de activación. Haremos algunos cálculos con matrices para ver esto en la práctica.\n",
    "\n",
    "![](images/FF_NN.png)\n",
    "\n"
   ]
  },
  {
   "cell_type": "markdown",
   "metadata": {},
   "source": [
    "## Ejercicio\n",
    "Se provee:\n",
    "\n",
    "- Tres matrices de pesos `W_1`, `W_2` and `W_3` representando los pesos de cada capa.  La convención en estas matrices $W_{i,j}$ es que el peso de la neurona $i$ en la capa anterior (izquierda) a la neurona $j$ en la siguiente capa (derecha).  \n",
    "- Un vector `x_in` que representa una sola entrada y una matriz `x_mat_in` que representa 7 entradas distintas.\n",
    "- Dos funciones: `soft_max_vec` y `soft_max_mat` que aplican la función soft_max function a un solo vector o a una matriz, por renglón.\n",
    "\n",
    "Las metas de este ejercicio son:\n",
    "1. Para la entrada `x_in` calcular las entradas y salidas de cada capa (asumiendo funciones de activación sigmoidal para las dos capas intermedias y soft_max para la capa final.\n",
    "2. Escribir una función que haga el cálculo de la red neuronal completa para una sola entrada.\n",
    "3. Write a function that does the entire neural network calculation for a matrix of inputs, where each row is a single input. Escribir una función que haga el cálculo completo de la red neuronal para una matriz de entradas, donde cada renglón corresponde a uns sola entrada.\n",
    "4. Probar las funciones con `x_in` y `x_mat_in`."
   ]
  },
  {
   "cell_type": "code",
   "execution_count": 20,
   "metadata": {},
   "outputs": [],
   "source": [
    "W_1 = np.array([[2,-1,1,4],[-1,2,-3,1],[3,-2,-1,5]])"
   ]
  },
  {
   "cell_type": "code",
   "execution_count": 21,
   "metadata": {},
   "outputs": [],
   "source": [
    "W_2 = np.array([[3,1,-2,1],[-2,4,1,-4],[-1,-3,2,-5],[3,1,1,1]])"
   ]
  },
  {
   "cell_type": "code",
   "execution_count": 22,
   "metadata": {},
   "outputs": [],
   "source": [
    "W_3 = np.array([[-1,3,-2],[1,-1,-3],[3,-2,2],[1,2,1]])"
   ]
  },
  {
   "cell_type": "code",
   "execution_count": 23,
   "metadata": {},
   "outputs": [],
   "source": [
    "x_in = np.array([.5,.8,.2])"
   ]
  },
  {
   "cell_type": "code",
   "execution_count": 24,
   "metadata": {},
   "outputs": [],
   "source": [
    "x_mat_in = np.array([[.5,.8,.2],[.1,.9,.6],[.2,.2,.3],[.6,.1,.9],[.5,.5,.4],[.9,.1,.9],[.1,.8,.7]])"
   ]
  },
  {
   "cell_type": "code",
   "execution_count": 32,
   "metadata": {},
   "outputs": [
    {
     "data": {
      "text/plain": [
       "(3,)"
      ]
     },
     "execution_count": 32,
     "metadata": {},
     "output_type": "execute_result"
    }
   ],
   "source": [
    "x_in.shape"
   ]
  },
  {
   "cell_type": "code",
   "execution_count": 31,
   "metadata": {},
   "outputs": [
    {
     "data": {
      "text/plain": [
       "array([0.5, 0.8, 0.2])"
      ]
     },
     "execution_count": 31,
     "metadata": {},
     "output_type": "execute_result"
    }
   ],
   "source": []
  },
  {
   "cell_type": "code",
   "execution_count": 33,
   "metadata": {},
   "outputs": [],
   "source": [
    "def soft_max_vec(vec):\n",
    "    return np.exp(vec)/(np.sum(np.exp(vec)))\n",
    "\n",
    "def soft_max_mat(mat):\n",
    "    return np.exp(mat)/(np.sum(np.exp(mat),axis=1).reshape(-1,1))"
   ]
  },
  {
   "cell_type": "code",
   "execution_count": 17,
   "metadata": {},
   "outputs": [
    {
     "data": {
      "text/plain": [
       "array([[1.64872127, 2.22554093, 1.22140276],\n",
       "       [1.10517092, 2.45960311, 1.8221188 ],\n",
       "       [1.22140276, 1.22140276, 1.34985881],\n",
       "       [1.8221188 , 1.10517092, 2.45960311],\n",
       "       [1.64872127, 1.64872127, 1.4918247 ],\n",
       "       [2.45960311, 1.10517092, 2.45960311],\n",
       "       [1.10517092, 2.22554093, 2.01375271]])"
      ]
     },
     "execution_count": 17,
     "metadata": {},
     "output_type": "execute_result"
    }
   ],
   "source": [
    "np.exp(x_mat_in)"
   ]
  },
  {
   "cell_type": "code",
   "execution_count": 18,
   "metadata": {},
   "outputs": [
    {
     "data": {
      "text/plain": [
       "array([5.09566496, 5.38689283, 3.79266432, 5.38689283, 4.78926724,\n",
       "       6.02437714, 5.34446455])"
      ]
     },
     "execution_count": 18,
     "metadata": {},
     "output_type": "execute_result"
    }
   ],
   "source": [
    "np.sum(np.exp(x_mat_in),axis=1)"
   ]
  },
  {
   "cell_type": "code",
   "execution_count": 19,
   "metadata": {},
   "outputs": [
    {
     "data": {
      "text/plain": [
       "array([[5.09566496],\n",
       "       [5.38689283],\n",
       "       [3.79266432],\n",
       "       [5.38689283],\n",
       "       [4.78926724],\n",
       "       [6.02437714],\n",
       "       [5.34446455]])"
      ]
     },
     "execution_count": 19,
     "metadata": {},
     "output_type": "execute_result"
    }
   ],
   "source": [
    "np.sum(np.exp(x_mat_in),axis=1).reshape(-1,1)"
   ]
  },
  {
   "cell_type": "code",
   "execution_count": 20,
   "metadata": {},
   "outputs": [
    {
     "data": {
      "text/plain": [
       "array([[0.3235537 , 0.43675182, 0.23969448],\n",
       "       [0.20515925, 0.45659032, 0.33825043],\n",
       "       [0.32204346, 0.32204346, 0.35591307],\n",
       "       [0.33825043, 0.20515925, 0.45659032],\n",
       "       [0.34425335, 0.34425335, 0.31149331],\n",
       "       [0.40827509, 0.18344982, 0.40827509],\n",
       "       [0.20678796, 0.41641981, 0.37679223]])"
      ]
     },
     "execution_count": 20,
     "metadata": {},
     "output_type": "execute_result"
    }
   ],
   "source": [
    "np.exp(x_mat_in)/(np.sum(np.exp(x_mat_in),axis=1).reshape(-1,1))"
   ]
  },
  {
   "cell_type": "markdown",
   "metadata": {},
   "source": [
    "## Rutinas generales"
   ]
  },
  {
   "cell_type": "code",
   "execution_count": 34,
   "metadata": {},
   "outputs": [],
   "source": [
    "def createParameters(W1, W2, W3):\n",
    "    parameters = {}\n",
    "    parameters[\"W1\"] = W1\n",
    "    parameters[\"W2\"] = W2\n",
    "    parameters[\"W3\"] = W3\n",
    "    return parameters"
   ]
  },
  {
   "cell_type": "code",
   "execution_count": 35,
   "metadata": {},
   "outputs": [],
   "source": [
    "params = createParameters(W_1, W_2, W_3)"
   ]
  },
  {
   "cell_type": "markdown",
   "metadata": {},
   "source": [
    "## Intel approach"
   ]
  },
  {
   "cell_type": "markdown",
   "metadata": {},
   "source": [
    "Convertimos x_in de un arreglo (3,) a uno de dos dimensiones (1,3)"
   ]
  },
  {
   "cell_type": "code",
   "execution_count": 36,
   "metadata": {},
   "outputs": [],
   "source": [
    "x_in_intel = x_in.reshape(1,-1)"
   ]
  },
  {
   "cell_type": "code",
   "execution_count": 41,
   "metadata": {},
   "outputs": [
    {
     "data": {
      "text/plain": [
       "(1, 3)"
      ]
     },
     "execution_count": 41,
     "metadata": {},
     "output_type": "execute_result"
    }
   ],
   "source": [
    "x_in_intel.shape"
   ]
  },
  {
   "cell_type": "code",
   "execution_count": 119,
   "metadata": {},
   "outputs": [],
   "source": [
    "def feedforward_intel(X, parameters):\n",
    "    W1,W2,W3 = parameters[\"W1\"], parameters[\"W2\"], parameters[\"W3\"]\n",
    "    Z1=None #np.dot()\n",
    "    A1=None #sigmoid()\n",
    "    Z2=None #np.dot()\n",
    "    A2=None #sigmoid()\n",
    "    Z3=None #np.dot()\n",
    "    if X.shape[1] == 1:\n",
    "        A3=None #soft_max_vec()\n",
    "    else:\n",
    "        A3=None #soft_max_mat()\n",
    "    return None"
   ]
  },
  {
   "cell_type": "markdown",
   "metadata": {},
   "source": [
    "### Ejercicio\n",
    "Implementa en la celda de abajo las funciones para calcular los siguientes valores de la segunda capa de la red neuronal\n",
    "* Z2, el resultado de aplicar la función np.dot a los valores de activación de la capa 1 (identificados como A1) con los pesos de la capa 2 (identificados como W2).\n",
    "* A2, el resultado de aplicar la función sigmoidal a Z2."
   ]
  },
  {
   "cell_type": "code",
   "execution_count": 56,
   "metadata": {},
   "outputs": [],
   "source": [
    "x_in_intel\n",
    "W1 = params[\"W1\"]\n",
    "W1.shape\n",
    "Z1=np.dot(x_in_intel, W1)\n",
    "A1=sigmoid(np.dot(x_in_intel, W1))\n",
    "#Calcular Z2\n",
    "W2 = params[\"W2\"]\n",
    "#Completa el código de la línea de abajo para calcular Z2:\n",
    "Z2 = None #np.dot()\n",
    "#Completa el código de la línea de abajo para calcular A2:\n",
    "A2=None #sigmoid()\n",
    "\n"
   ]
  },
  {
   "cell_type": "markdown",
   "metadata": {},
   "source": [
    "Verifica el valor de Z2"
   ]
  },
  {
   "cell_type": "code",
   "execution_count": 57,
   "metadata": {},
   "outputs": [],
   "source": [
    "Z2"
   ]
  },
  {
   "cell_type": "markdown",
   "metadata": {},
   "source": [
    "Verifica el valor de A2"
   ]
  },
  {
   "cell_type": "code",
   "execution_count": 58,
   "metadata": {},
   "outputs": [],
   "source": [
    "A2"
   ]
  },
  {
   "cell_type": "code",
   "execution_count": 120,
   "metadata": {},
   "outputs": [],
   "source": [
    "result = feedforward_intel(x_in_intel, params)\n",
    "result"
   ]
  },
  {
   "cell_type": "code",
   "execution_count": 101,
   "metadata": {},
   "outputs": [
    {
     "data": {
      "text/plain": [
       "array([[ 2.04146788,  1.04718238, -3.47867612],\n",
       "       [ 1.92205929,  1.42324752, -3.54057369],\n",
       "       [ 1.9563182 ,  1.13151906, -3.27363361],\n",
       "       [ 1.63308573,  2.17592794, -2.97738636],\n",
       "       [ 1.84869797,  1.55211843, -3.46934914],\n",
       "       [ 1.59253551,  2.05871663, -2.82613226],\n",
       "       [ 1.8430245 ,  1.73746743, -3.5474088 ]])"
      ]
     },
     "execution_count": 101,
     "metadata": {},
     "output_type": "execute_result"
    }
   ],
   "source": [
    "result_2 = feedforward_intel(x_mat_in, params)\n",
    "result_2"
   ]
  },
  {
   "cell_type": "code",
   "execution_count": null,
   "metadata": {},
   "outputs": [],
   "source": [
    "## Student to do the calculations below"
   ]
  },
  {
   "cell_type": "markdown",
   "metadata": {},
   "source": [
    "## Andrew Ng approach"
   ]
  },
  {
   "cell_type": "markdown",
   "metadata": {},
   "source": [
    "* In the input layer each column represent the values of each cell in the neural network, precisely as it is shown in the diagram.\n",
    "* The weight matrix is of dimensions (num_cells_layer, num_inputs previous layer)\n",
    "* b is represented as a matrix (num_cells_layer, 1)\n"
   ]
  },
  {
   "cell_type": "code",
   "execution_count": 27,
   "metadata": {},
   "outputs": [],
   "source": [
    "x_in_ng = x_in.reshape(3,-1)"
   ]
  },
  {
   "cell_type": "code",
   "execution_count": 83,
   "metadata": {},
   "outputs": [
    {
     "data": {
      "text/plain": [
       "array([0.3235537 , 0.43675182, 0.23969448])"
      ]
     },
     "execution_count": 83,
     "metadata": {},
     "output_type": "execute_result"
    }
   ],
   "source": [
    "x_mat_in_ng = x_mat_in.T"
   ]
  },
  {
   "cell_type": "markdown",
   "metadata": {
    "collapsed": true
   },
   "source": [
    "z = w.Tx + b\n",
    "\n",
    "a = sigma(z)"
   ]
  },
  {
   "cell_type": "code",
   "execution_count": 116,
   "metadata": {},
   "outputs": [],
   "source": [
    "def feedforward_ng(X, params):\n",
    "    print(\"X\", X.shape)\n",
    "    print(\"W1\",params[\"W1\"].shape)\n",
    "    print(\"W2\", params[\"W2\"].shape)\n",
    "    print(\"W3\", params[\"W3\"].shape)\n",
    "    \n",
    "    W1 = params[\"W1\"]\n",
    "    W2 = params[\"W2\"]\n",
    "    W3 = params[\"W3\"]\n",
    "    \n",
    "    Z1 = None #np.dot()\n",
    "    A1 = None #sigmoid()\n",
    "    Z2 = None #np.dot()\n",
    "    A2 = None #sigmoid()\n",
    "    Z3 = None #np.dot()\n",
    "    \n",
    "    if X.shape[1]==1:\n",
    "        A3 = None #soft_max_vec()\n",
    "    else:\n",
    "        A3 = None #soft_max_mat() #TODO: Review softmax implementation for Andrew NG representation of the Z3 matrix\n",
    "    return None"
   ]
  },
  {
   "cell_type": "code",
   "execution_count": 117,
   "metadata": {},
   "outputs": [
    {
     "name": "stdout",
     "output_type": "stream",
     "text": [
      "X (3, 1)\n",
      "W1 (3, 4)\n",
      "W2 (4, 4)\n",
      "W3 (4, 3)\n"
     ]
    }
   ],
   "source": [
    "result_ng = feedforward_ng(x_in_ng, params)\n",
    "result_ng\n"
   ]
  },
  {
   "cell_type": "code",
   "execution_count": 107,
   "metadata": {},
   "outputs": [
    {
     "name": "stdout",
     "output_type": "stream",
     "text": [
      "X (3, 7)\n",
      "W1 (3, 4)\n",
      "W2 (4, 4)\n",
      "W3 (4, 3)\n"
     ]
    },
    {
     "data": {
      "text/plain": [
       "array([[0.17380628, 0.15424354, 0.15961931, 0.11553335, 0.14333312,\n",
       "        0.11094216, 0.14252223],\n",
       "       [0.07670304, 0.1117212 , 0.08345253, 0.23714859, 0.1270877 ,\n",
       "        0.2109193 , 0.15296764],\n",
       "       [0.11518386, 0.10827042, 0.14139708, 0.19015116, 0.1162632 ,\n",
       "        0.22120137, 0.10753291]])"
      ]
     },
     "execution_count": 107,
     "metadata": {},
     "output_type": "execute_result"
    }
   ],
   "source": [
    "result_ng_mat = feedforward_ng(x_mat_in_ng, params)\n",
    "result_ng_mat"
   ]
  },
  {
   "cell_type": "code",
   "execution_count": null,
   "metadata": {},
   "outputs": [],
   "source": []
  }
 ],
 "metadata": {
  "interpreter": {
   "hash": "d991d63f1333d071e4876458cb08cc2953af427fefb8b92f4b8d2b9ec10094fa"
  },
  "kernelspec": {
   "display_name": "Python 3.7.4 64-bit (conda)",
   "language": "python",
   "name": "python3"
  },
  "language_info": {
   "codemirror_mode": {
    "name": "ipython",
    "version": 3
   },
   "file_extension": ".py",
   "mimetype": "text/x-python",
   "name": "python",
   "nbconvert_exporter": "python",
   "pygments_lexer": "ipython3",
   "version": "3.7.10"
  }
 },
 "nbformat": 4,
 "nbformat_minor": 2
}
