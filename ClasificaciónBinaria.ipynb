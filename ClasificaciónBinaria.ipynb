{
 "cells": [
  {
   "cell_type": "markdown",
   "metadata": {},
   "source": [
    "# Clasificación binaria\n",
    "Se implementará un modelo de clasificación binaria para un datasets con clases altamente desbalanceadas."
   ]
  },
  {
   "cell_type": "markdown",
   "metadata": {},
   "source": [
    "## Descargar el dataset"
   ]
  },
  {
   "cell_type": "code",
   "execution_count": null,
   "metadata": {},
   "outputs": [],
   "source": [
    "!curl -O https://storage.googleapis.com/naylalex-deep-learning/Kaggle-Credit-Card-Fraud-Detection.zip\n",
    "!unzip -d datasets/credit-card-fraud-detection/ Kaggle-Credit-Card-Fraud-Detection.zip\n",
    "!rm Kaggle-Credit-Card-Fraud-Detection.zip"
   ]
  },
  {
   "cell_type": "markdown",
   "metadata": {},
   "source": [
    "## Vectorizar los datos CSV"
   ]
  },
  {
   "cell_type": "code",
   "execution_count": 2,
   "metadata": {},
   "outputs": [
    {
     "name": "stdout",
     "output_type": "stream",
     "text": [
      "HEADER: \"Time\",\"V1\",\"V2\",\"V3\",\"V4\",\"V5\",\"V6\",\"V7\",\"V8\",\"V9\",\"V10\",\"V11\",\"V12\",\"V13\",\"V14\",\"V15\",\"V16\",\"V17\",\"V18\",\"V19\",\"V20\",\"V21\",\"V22\",\"V23\",\"V24\",\"V25\",\"V26\",\"V27\",\"V28\",\"Amount\",\"Class\"\n",
      "EXAMPLE FEATURES: [0.0, -1.3598071336738, -0.0727811733098497, 2.53634673796914, 1.37815522427443, -0.338320769942518, 0.462387777762292, 0.239598554061257, 0.0986979012610507, 0.363786969611213, 0.0907941719789316, -0.551599533260813, -0.617800855762348, -0.991389847235408, -0.311169353699879, 1.46817697209427, -0.470400525259478, 0.207971241929242, 0.0257905801985591, 0.403992960255733, 0.251412098239705, -0.018306777944153, 0.277837575558899, -0.110473910188767, 0.0669280749146731, 0.128539358273528, -0.189114843888824, 0.133558376740387, -0.0210530534538215, 149.62]\n",
      "features.shape: (284807, 30)\n",
      "targets.shape: (284807, 1)\n"
     ]
    }
   ],
   "source": [
    "import csv\n",
    "import numpy as np\n",
    "\n",
    "# Get the real data from https://www.kaggle.com/mlg-ulb/creditcardfraud/\n",
    "fname = \"./datasets/credit-card-fraud-detection/creditcard.csv\"\n",
    "\n",
    "all_features = []\n",
    "all_targets = []\n",
    "with open(fname) as f:\n",
    "    for i, line in enumerate(f):\n",
    "        if i == 0:\n",
    "            print(\"HEADER:\", line.strip())\n",
    "            continue  # Skip header\n",
    "        fields = line.strip().split(\",\")\n",
    "        all_features.append([float(v.replace('\"', \"\")) for v in fields[:-1]])\n",
    "        all_targets.append([int(fields[-1].replace('\"', \"\"))])\n",
    "        if i == 1:\n",
    "            print(\"EXAMPLE FEATURES:\", all_features[-1])\n",
    "\n",
    "features = np.array(all_features, dtype=\"float32\")\n",
    "targets = np.array(all_targets, dtype=\"uint8\")\n",
    "print(\"features.shape:\", features.shape)\n",
    "print(\"targets.shape:\", targets.shape)"
   ]
  },
  {
   "cell_type": "markdown",
   "metadata": {},
   "source": [
    "## Preparar un dataset de validación"
   ]
  },
  {
   "cell_type": "code",
   "execution_count": 3,
   "metadata": {},
   "outputs": [
    {
     "name": "stdout",
     "output_type": "stream",
     "text": [
      "Number of training samples: 227846\n",
      "Number of validation samples: 56961\n"
     ]
    }
   ],
   "source": [
    "num_val_samples = int(len(features) * 0.2)\n",
    "train_features = features[:-num_val_samples]\n",
    "train_targets = targets[:-num_val_samples]\n",
    "val_features = features[-num_val_samples:]\n",
    "val_targets = targets[-num_val_samples:]\n",
    "\n",
    "print(\"Number of training samples:\", len(train_features))\n",
    "print(\"Number of validation samples:\", len(val_features))"
   ]
  },
  {
   "cell_type": "markdown",
   "metadata": {},
   "source": [
    "## Analizar el desbalance de clases en los targets"
   ]
  },
  {
   "cell_type": "code",
   "execution_count": 4,
   "metadata": {},
   "outputs": [
    {
     "name": "stdout",
     "output_type": "stream",
     "text": [
      "Number of positive samples in training data: 417 (0.18% of total)\n"
     ]
    }
   ],
   "source": [
    "counts = np.bincount(train_targets[:, 0])\n",
    "print(\n",
    "    \"Number of positive samples in training data: {} ({:.2f}% of total)\".format(\n",
    "        counts[1], 100 * float(counts[1]) / len(train_targets)\n",
    "    )\n",
    ")\n",
    "\n",
    "weight_for_0 = 1.0 / counts[0]\n",
    "weight_for_1 = 1.0 / counts[1]"
   ]
  },
  {
   "cell_type": "markdown",
   "metadata": {},
   "source": [
    "## Normalizar los datos empleando estadísticas del training set"
   ]
  },
  {
   "cell_type": "code",
   "execution_count": 5,
   "metadata": {},
   "outputs": [],
   "source": [
    "mean = np.mean(train_features, axis=0)\n",
    "train_features -= mean\n",
    "val_features -= mean\n",
    "std = np.std(train_features, axis=0)\n",
    "train_features /= std\n",
    "val_features /= std"
   ]
  },
  {
   "cell_type": "markdown",
   "metadata": {},
   "source": [
    "## Generar un modelo de clasificación binaria"
   ]
  },
  {
   "cell_type": "code",
   "execution_count": 6,
   "metadata": {},
   "outputs": [
    {
     "name": "stderr",
     "output_type": "stream",
     "text": [
      "2022-03-22 04:43:46.336509: I tensorflow/compiler/jit/xla_cpu_device.cc:41] Not creating XLA devices, tf_xla_enable_xla_devices not set\n",
      "2022-03-22 04:43:46.387581: I tensorflow/core/platform/cpu_feature_guard.cc:142] This TensorFlow binary is optimized with oneAPI Deep Neural Network Library (oneDNN) to use the following CPU instructions in performance-critical operations:  SSE4.1 SSE4.2 AVX AVX2 AVX512F FMA\n",
      "To enable them in other operations, rebuild TensorFlow with the appropriate compiler flags.\n",
      "2022-03-22 04:43:46.470254: I tensorflow/core/common_runtime/process_util.cc:146] Creating new thread pool with default inter op setting: 2. Tune using inter_op_parallelism_threads for best performance.\n"
     ]
    },
    {
     "name": "stdout",
     "output_type": "stream",
     "text": [
      "Model: \"sequential\"\n",
      "_________________________________________________________________\n",
      "Layer (type)                 Output Shape              Param #   \n",
      "=================================================================\n",
      "dense (Dense)                (None, 256)               7936      \n",
      "_________________________________________________________________\n",
      "dense_1 (Dense)              (None, 256)               65792     \n",
      "_________________________________________________________________\n",
      "dropout (Dropout)            (None, 256)               0         \n",
      "_________________________________________________________________\n",
      "dense_2 (Dense)              (None, 256)               65792     \n",
      "_________________________________________________________________\n",
      "dropout_1 (Dropout)          (None, 256)               0         \n",
      "_________________________________________________________________\n",
      "dense_3 (Dense)              (None, 1)                 257       \n",
      "=================================================================\n",
      "Total params: 139,777\n",
      "Trainable params: 139,777\n",
      "Non-trainable params: 0\n",
      "_________________________________________________________________\n"
     ]
    }
   ],
   "source": [
    "from tensorflow import keras\n",
    "\n",
    "model = keras.Sequential(\n",
    "    [\n",
    "        keras.layers.Dense(\n",
    "            256, activation=\"relu\", input_shape=(train_features.shape[-1],)\n",
    "        ),\n",
    "        keras.layers.Dense(256, activation=\"relu\"),\n",
    "        keras.layers.Dropout(0.3),\n",
    "        keras.layers.Dense(256, activation=\"relu\"),\n",
    "        keras.layers.Dropout(0.3),\n",
    "        keras.layers.Dense(1, activation=\"sigmoid\"),\n",
    "    ]\n",
    ")\n",
    "model.summary()"
   ]
  },
  {
   "cell_type": "markdown",
   "metadata": {},
   "source": [
    "## Entrenar el modelo con el argumento class_weight"
   ]
  },
  {
   "cell_type": "code",
   "execution_count": 7,
   "metadata": {},
   "outputs": [
    {
     "name": "stderr",
     "output_type": "stream",
     "text": [
      "2022-03-22 04:43:50.360011: I tensorflow/compiler/mlir/mlir_graph_optimization_pass.cc:116] None of the MLIR optimization passes are enabled (registered 2)\n",
      "2022-03-22 04:43:50.550504: I tensorflow/core/platform/profile_utils/cpu_utils.cc:112] CPU Frequency: 2593905000 Hz\n"
     ]
    },
    {
     "name": "stdout",
     "output_type": "stream",
     "text": [
      "Epoch 1/30\n",
      "112/112 - 11s - loss: 2.2267e-06 - fn: 47.0000 - fp: 19609.0000 - tn: 207820.0000 - tp: 370.0000 - precision: 0.0185 - recall: 0.8873 - val_loss: 0.0311 - val_fn: 13.0000 - val_fp: 270.0000 - val_tn: 56616.0000 - val_tp: 62.0000 - val_precision: 0.1867 - val_recall: 0.8267\n",
      "Epoch 2/30\n",
      "112/112 - 6s - loss: 1.5628e-06 - fn: 36.0000 - fp: 6078.0000 - tn: 221351.0000 - tp: 381.0000 - precision: 0.0590 - recall: 0.9137 - val_loss: 0.0980 - val_fn: 8.0000 - val_fp: 1152.0000 - val_tn: 55734.0000 - val_tp: 67.0000 - val_precision: 0.0550 - val_recall: 0.8933\n",
      "Epoch 3/30\n",
      "112/112 - 6s - loss: 1.2132e-06 - fn: 32.0000 - fp: 7145.0000 - tn: 220284.0000 - tp: 385.0000 - precision: 0.0511 - recall: 0.9233 - val_loss: 0.1867 - val_fn: 5.0000 - val_fp: 4027.0000 - val_tn: 52859.0000 - val_tp: 70.0000 - val_precision: 0.0171 - val_recall: 0.9333\n",
      "Epoch 4/30\n",
      "112/112 - 6s - loss: 1.1010e-06 - fn: 23.0000 - fp: 7594.0000 - tn: 219835.0000 - tp: 394.0000 - precision: 0.0493 - recall: 0.9448 - val_loss: 0.0493 - val_fn: 9.0000 - val_fp: 541.0000 - val_tn: 56345.0000 - val_tp: 66.0000 - val_precision: 0.1087 - val_recall: 0.8800\n",
      "Epoch 5/30\n",
      "112/112 - 5s - loss: 9.5744e-07 - fn: 18.0000 - fp: 5994.0000 - tn: 221435.0000 - tp: 399.0000 - precision: 0.0624 - recall: 0.9568 - val_loss: 0.1041 - val_fn: 6.0000 - val_fp: 1599.0000 - val_tn: 55287.0000 - val_tp: 69.0000 - val_precision: 0.0414 - val_recall: 0.9200\n",
      "Epoch 6/30\n",
      "112/112 - 6s - loss: 9.3416e-07 - fn: 19.0000 - fp: 7952.0000 - tn: 219477.0000 - tp: 398.0000 - precision: 0.0477 - recall: 0.9544 - val_loss: 0.0367 - val_fn: 9.0000 - val_fp: 469.0000 - val_tn: 56417.0000 - val_tp: 66.0000 - val_precision: 0.1234 - val_recall: 0.8800\n",
      "Epoch 7/30\n",
      "112/112 - 5s - loss: 7.1919e-07 - fn: 18.0000 - fp: 5940.0000 - tn: 221489.0000 - tp: 399.0000 - precision: 0.0629 - recall: 0.9568 - val_loss: 0.0238 - val_fn: 10.0000 - val_fp: 318.0000 - val_tn: 56568.0000 - val_tp: 65.0000 - val_precision: 0.1697 - val_recall: 0.8667\n",
      "Epoch 8/30\n",
      "112/112 - 6s - loss: 6.0709e-07 - fn: 11.0000 - fp: 5698.0000 - tn: 221731.0000 - tp: 406.0000 - precision: 0.0665 - recall: 0.9736 - val_loss: 0.0531 - val_fn: 6.0000 - val_fp: 1310.0000 - val_tn: 55576.0000 - val_tp: 69.0000 - val_precision: 0.0500 - val_recall: 0.9200\n",
      "Epoch 9/30\n",
      "112/112 - 6s - loss: 7.0412e-07 - fn: 12.0000 - fp: 7511.0000 - tn: 219918.0000 - tp: 405.0000 - precision: 0.0512 - recall: 0.9712 - val_loss: 0.1194 - val_fn: 6.0000 - val_fp: 3192.0000 - val_tn: 53694.0000 - val_tp: 69.0000 - val_precision: 0.0212 - val_recall: 0.9200\n",
      "Epoch 10/30\n",
      "112/112 - 6s - loss: 6.8738e-07 - fn: 10.0000 - fp: 7861.0000 - tn: 219568.0000 - tp: 407.0000 - precision: 0.0492 - recall: 0.9760 - val_loss: 0.0473 - val_fn: 9.0000 - val_fp: 1025.0000 - val_tn: 55861.0000 - val_tp: 66.0000 - val_precision: 0.0605 - val_recall: 0.8800\n",
      "Epoch 11/30\n",
      "112/112 - 6s - loss: 9.6647e-07 - fn: 15.0000 - fp: 6551.0000 - tn: 220878.0000 - tp: 402.0000 - precision: 0.0578 - recall: 0.9640 - val_loss: 0.0270 - val_fn: 10.0000 - val_fp: 445.0000 - val_tn: 56441.0000 - val_tp: 65.0000 - val_precision: 0.1275 - val_recall: 0.8667\n",
      "Epoch 12/30\n",
      "112/112 - 6s - loss: 7.9914e-07 - fn: 11.0000 - fp: 6351.0000 - tn: 221078.0000 - tp: 406.0000 - precision: 0.0601 - recall: 0.9736 - val_loss: 0.0513 - val_fn: 7.0000 - val_fp: 1470.0000 - val_tn: 55416.0000 - val_tp: 68.0000 - val_precision: 0.0442 - val_recall: 0.9067\n",
      "Epoch 13/30\n",
      "112/112 - 6s - loss: 8.3895e-07 - fn: 10.0000 - fp: 8327.0000 - tn: 219102.0000 - tp: 407.0000 - precision: 0.0466 - recall: 0.9760 - val_loss: 0.1445 - val_fn: 6.0000 - val_fp: 2875.0000 - val_tn: 54011.0000 - val_tp: 69.0000 - val_precision: 0.0234 - val_recall: 0.9200\n",
      "Epoch 14/30\n",
      "112/112 - 5s - loss: 1.3344e-06 - fn: 21.0000 - fp: 11394.0000 - tn: 216035.0000 - tp: 396.0000 - precision: 0.0336 - recall: 0.9496 - val_loss: 0.0510 - val_fn: 8.0000 - val_fp: 528.0000 - val_tn: 56358.0000 - val_tp: 67.0000 - val_precision: 0.1126 - val_recall: 0.8933\n",
      "Epoch 15/30\n",
      "112/112 - 6s - loss: 4.9936e-07 - fn: 10.0000 - fp: 4283.0000 - tn: 223146.0000 - tp: 407.0000 - precision: 0.0868 - recall: 0.9760 - val_loss: 0.0672 - val_fn: 8.0000 - val_fp: 1294.0000 - val_tn: 55592.0000 - val_tp: 67.0000 - val_precision: 0.0492 - val_recall: 0.8933\n",
      "Epoch 16/30\n",
      "112/112 - 6s - loss: 5.1896e-07 - fn: 8.0000 - fp: 5629.0000 - tn: 221800.0000 - tp: 409.0000 - precision: 0.0677 - recall: 0.9808 - val_loss: 0.0432 - val_fn: 8.0000 - val_fp: 936.0000 - val_tn: 55950.0000 - val_tp: 67.0000 - val_precision: 0.0668 - val_recall: 0.8933\n",
      "Epoch 17/30\n",
      "112/112 - 6s - loss: 4.5410e-07 - fn: 4.0000 - fp: 3945.0000 - tn: 223484.0000 - tp: 413.0000 - precision: 0.0948 - recall: 0.9904 - val_loss: 0.0418 - val_fn: 11.0000 - val_fp: 457.0000 - val_tn: 56429.0000 - val_tp: 64.0000 - val_precision: 0.1228 - val_recall: 0.8533\n",
      "Epoch 18/30\n",
      "112/112 - 5s - loss: 4.1196e-07 - fn: 6.0000 - fp: 4482.0000 - tn: 222947.0000 - tp: 411.0000 - precision: 0.0840 - recall: 0.9856 - val_loss: 0.0356 - val_fn: 8.0000 - val_fp: 683.0000 - val_tn: 56203.0000 - val_tp: 67.0000 - val_precision: 0.0893 - val_recall: 0.8933\n",
      "Epoch 19/30\n",
      "112/112 - 6s - loss: 5.4105e-07 - fn: 6.0000 - fp: 4088.0000 - tn: 223341.0000 - tp: 411.0000 - precision: 0.0914 - recall: 0.9856 - val_loss: 0.0624 - val_fn: 12.0000 - val_fp: 769.0000 - val_tn: 56117.0000 - val_tp: 63.0000 - val_precision: 0.0757 - val_recall: 0.8400\n",
      "Epoch 20/30\n",
      "112/112 - 6s - loss: 2.5248e-06 - fn: 11.0000 - fp: 6282.0000 - tn: 221147.0000 - tp: 406.0000 - precision: 0.0607 - recall: 0.9736 - val_loss: 0.0461 - val_fn: 9.0000 - val_fp: 984.0000 - val_tn: 55902.0000 - val_tp: 66.0000 - val_precision: 0.0629 - val_recall: 0.8800\n",
      "Epoch 21/30\n",
      "112/112 - 6s - loss: 5.3016e-07 - fn: 10.0000 - fp: 4624.0000 - tn: 222805.0000 - tp: 407.0000 - precision: 0.0809 - recall: 0.9760 - val_loss: 0.0855 - val_fn: 7.0000 - val_fp: 2096.0000 - val_tn: 54790.0000 - val_tp: 68.0000 - val_precision: 0.0314 - val_recall: 0.9067\n",
      "Epoch 22/30\n",
      "112/112 - 5s - loss: 5.3659e-07 - fn: 6.0000 - fp: 4917.0000 - tn: 222512.0000 - tp: 411.0000 - precision: 0.0771 - recall: 0.9856 - val_loss: 0.0320 - val_fn: 8.0000 - val_fp: 472.0000 - val_tn: 56414.0000 - val_tp: 67.0000 - val_precision: 0.1243 - val_recall: 0.8933\n",
      "Epoch 23/30\n",
      "112/112 - 6s - loss: 3.6111e-07 - fn: 3.0000 - fp: 3921.0000 - tn: 223508.0000 - tp: 414.0000 - precision: 0.0955 - recall: 0.9928 - val_loss: 0.0393 - val_fn: 9.0000 - val_fp: 709.0000 - val_tn: 56177.0000 - val_tp: 66.0000 - val_precision: 0.0852 - val_recall: 0.8800\n",
      "Epoch 24/30\n",
      "112/112 - 6s - loss: 3.2255e-07 - fn: 3.0000 - fp: 4055.0000 - tn: 223374.0000 - tp: 414.0000 - precision: 0.0926 - recall: 0.9928 - val_loss: 0.0193 - val_fn: 11.0000 - val_fp: 401.0000 - val_tn: 56485.0000 - val_tp: 64.0000 - val_precision: 0.1376 - val_recall: 0.8533\n",
      "Epoch 25/30\n",
      "112/112 - 6s - loss: 6.5585e-07 - fn: 6.0000 - fp: 4402.0000 - tn: 223027.0000 - tp: 411.0000 - precision: 0.0854 - recall: 0.9856 - val_loss: 0.0385 - val_fn: 9.0000 - val_fp: 752.0000 - val_tn: 56134.0000 - val_tp: 66.0000 - val_precision: 0.0807 - val_recall: 0.8800\n",
      "Epoch 26/30\n",
      "112/112 - 6s - loss: 4.1664e-07 - fn: 3.0000 - fp: 3081.0000 - tn: 224348.0000 - tp: 414.0000 - precision: 0.1185 - recall: 0.9928 - val_loss: 0.0466 - val_fn: 9.0000 - val_fp: 724.0000 - val_tn: 56162.0000 - val_tp: 66.0000 - val_precision: 0.0835 - val_recall: 0.8800\n",
      "Epoch 27/30\n",
      "112/112 - 6s - loss: 2.7095e-07 - fn: 0.0000e+00 - fp: 2937.0000 - tn: 224492.0000 - tp: 417.0000 - precision: 0.1243 - recall: 1.0000 - val_loss: 0.0140 - val_fn: 11.0000 - val_fp: 238.0000 - val_tn: 56648.0000 - val_tp: 64.0000 - val_precision: 0.2119 - val_recall: 0.8533\n",
      "Epoch 28/30\n",
      "112/112 - 5s - loss: 2.2175e-07 - fn: 2.0000 - fp: 2284.0000 - tn: 225145.0000 - tp: 415.0000 - precision: 0.1538 - recall: 0.9952 - val_loss: 0.0207 - val_fn: 10.0000 - val_fp: 415.0000 - val_tn: 56471.0000 - val_tp: 65.0000 - val_precision: 0.1354 - val_recall: 0.8667\n",
      "Epoch 29/30\n",
      "112/112 - 6s - loss: 4.6254e-07 - fn: 4.0000 - fp: 4195.0000 - tn: 223234.0000 - tp: 413.0000 - precision: 0.0896 - recall: 0.9904 - val_loss: 0.0477 - val_fn: 9.0000 - val_fp: 959.0000 - val_tn: 55927.0000 - val_tp: 66.0000 - val_precision: 0.0644 - val_recall: 0.8800\n",
      "Epoch 30/30\n",
      "112/112 - 6s - loss: 2.1139e-07 - fn: 0.0000e+00 - fp: 2728.0000 - tn: 224701.0000 - tp: 417.0000 - precision: 0.1326 - recall: 1.0000 - val_loss: 0.0096 - val_fn: 10.0000 - val_fp: 188.0000 - val_tn: 56698.0000 - val_tp: 65.0000 - val_precision: 0.2569 - val_recall: 0.8667\n"
     ]
    },
    {
     "data": {
      "text/plain": [
       "<tensorflow.python.keras.callbacks.History at 0x7f2af1044100>"
      ]
     },
     "execution_count": 7,
     "metadata": {},
     "output_type": "execute_result"
    }
   ],
   "source": [
    "metrics = [\n",
    "    keras.metrics.FalseNegatives(name=\"fn\"),\n",
    "    keras.metrics.FalsePositives(name=\"fp\"),\n",
    "    keras.metrics.TrueNegatives(name=\"tn\"),\n",
    "    keras.metrics.TruePositives(name=\"tp\"),\n",
    "    keras.metrics.Precision(name=\"precision\"),\n",
    "    keras.metrics.Recall(name=\"recall\"),\n",
    "]\n",
    "\n",
    "model.compile(\n",
    "    optimizer=keras.optimizers.Adam(1e-2), loss=\"binary_crossentropy\", metrics=metrics\n",
    ")\n",
    "\n",
    "callbacks = [keras.callbacks.ModelCheckpoint(\"fraud_model_at_epoch_{epoch}.h5\")]\n",
    "class_weight = {0: weight_for_0, 1: weight_for_1}\n",
    "\n",
    "model.fit(\n",
    "    train_features,\n",
    "    train_targets,\n",
    "    batch_size=2048,\n",
    "    epochs=30,\n",
    "    verbose=2,\n",
    "    callbacks=callbacks,\n",
    "    validation_data=(val_features, val_targets),\n",
    "    class_weight=class_weight,\n",
    ")"
   ]
  },
  {
   "cell_type": "markdown",
   "metadata": {},
   "source": [
    "## Conclusiones\n",
    "* Número de transacciones de validación.\n",
    "* Número de casos identificados correctamente como fraudulentos.\n",
    "* Número de transacciones fraudulentas faltantes.\n",
    "* Costo de etiquetar 441 transacciones legítimas.\n",
    "Recomendaciones: Colocar un peso mayor en la clase 1 para reflejar que los falsos negativos son más costosos que los falsos positivos.\n"
   ]
  }
 ],
 "metadata": {
  "kernelspec": {
   "display_name": "Python 3",
   "language": "python",
   "name": "python3"
  },
  "language_info": {
   "codemirror_mode": {
    "name": "ipython",
    "version": 3
   },
   "file_extension": ".py",
   "mimetype": "text/x-python",
   "name": "python",
   "nbconvert_exporter": "python",
   "pygments_lexer": "ipython3",
   "version": "3.9.7"
  },
  "orig_nbformat": 2
 },
 "nbformat": 4,
 "nbformat_minor": 2
}
